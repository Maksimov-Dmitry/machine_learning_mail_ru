{
 "cells": [
  {
   "cell_type": "markdown",
   "metadata": {
    "id": "Q93E5pIdPetF",
    "toc": true
   },
   "source": [
    "<h1>Table of Contents<span class=\"tocSkip\"></span></h1>\n",
    "<div class=\"toc\"><ul class=\"toc-item\"><li><span><a href=\"#Подготовка-данных\" data-toc-modified-id=\"Подготовка-данных-1\"><span class=\"toc-item-num\">1&nbsp;&nbsp;</span>Подготовка данных</a></span></li><li><span><a href=\"#Разделение-на-train,-test\" data-toc-modified-id=\"Разделение-на-train,-test-2\"><span class=\"toc-item-num\">2&nbsp;&nbsp;</span>Разделение на train, test</a></span></li><li><span><a href=\"#Fit-MyDecisionTree\" data-toc-modified-id=\"Fit-MyDecisionTree-3\"><span class=\"toc-item-num\">3&nbsp;&nbsp;</span>Fit MyDecisionTree</a></span></li><li><span><a href=\"#Predict-MyDecisionTree\" data-toc-modified-id=\"Predict-MyDecisionTree-4\"><span class=\"toc-item-num\">4&nbsp;&nbsp;</span>Predict MyDecisionTree</a></span></li><li><span><a href=\"#Train-with-sklearn\" data-toc-modified-id=\"Train-with-sklearn-5\"><span class=\"toc-item-num\">5&nbsp;&nbsp;</span>Train with sklearn</a></span></li><li><span><a href=\"#Сравнение-метрик\" data-toc-modified-id=\"Сравнение-метрик-6\"><span class=\"toc-item-num\">6&nbsp;&nbsp;</span>Сравнение метрик</a></span></li></ul></div>"
   ]
  },
  {
   "cell_type": "markdown",
   "metadata": {
    "id": "WstusuN4PetG"
   },
   "source": [
    "# Задание  \n",
    "\n",
    "1. Напишите свой алгоритм построения дерева решений для задачи бинарной классификации.  \n",
    "    - критерий информативности - Энтропия Шеннона\n",
    "    - критерии останова - максимальная глубина, кол-во элементов в листе, прирост энтропии < x\n",
    "2. Сравните результат работы своего алгоритма с sklearn    \n",
    "\n",
    "3. (дополнительно)  Попробуйте не делать One-Hot-Encoding для категориальных переменных, а добавить их обработку в свой алгоритм. Сравните качество работы алгоритма с предыдущим решением."
   ]
  },
  {
   "cell_type": "markdown",
   "metadata": {
    "id": "Ia9gyoKsPetI"
   },
   "source": [
    "## Подготовка данных\n",
    "Рассмотрим задачу \"Титаник\" https://www.kaggle.com/c/titanic/data. Необходимо предсказать выживет пассажир или нет."
   ]
  },
  {
   "cell_type": "code",
   "execution_count": 1,
   "metadata": {
    "id": "1ieX27epPetK"
   },
   "outputs": [],
   "source": [
    "import numpy as np\n",
    "import pandas as pd\n",
    "\n",
    "from sklearn.metrics import roc_auc_score, accuracy_score, confusion_matrix "
   ]
  },
  {
   "cell_type": "code",
   "execution_count": 2,
   "metadata": {
    "id": "RqAcv2K0PetQ"
   },
   "outputs": [],
   "source": [
    "# считаем данные из файла в pandas DataFrame\n",
    "df = pd.read_csv(\"train.csv\")\n",
    "\n",
    "# зафиксируем целевую переменную и удалим ее из данных\n",
    "y = df['Survived']\n",
    "df.drop('Survived', axis=1, inplace=True)"
   ]
  },
  {
   "cell_type": "code",
   "execution_count": 3,
   "metadata": {
    "id": "DiLLm5CfPetV"
   },
   "outputs": [],
   "source": [
    "# удалим признаки PassengerId, Name, Ticket и Cabin из данных\n",
    "df.drop(['PassengerId', 'Name', 'Ticket', 'Cabin'], axis=1, inplace=True)\n",
    "\n",
    "# заполним пропуски в признаке Age обучающей выборки медианным значением\n",
    "df['Age'].fillna(df['Age'].median(), inplace=True)\n",
    "\n",
    "#заполним пропуски в признаке Embarked обучающей выборки самыми частыми значениями этого признака\n",
    "df['Embarked'].fillna(df['Embarked'].value_counts().idxmax(), inplace=True)\n",
    "\n",
    "#заменим категориальные признаки, используя One-Hot-Encoding\n",
    "categorical = ['Pclass', 'Sex', 'SibSp', 'Parch', 'Embarked']\n",
    "df_OHE = pd.concat([df, pd.get_dummies(df[categorical], columns=categorical, drop_first=True)],axis=1)\n",
    "\n",
    "df_OHE.drop(categorical, axis=1, inplace=True)"
   ]
  },
  {
   "cell_type": "markdown",
   "metadata": {
    "id": "gc6pS7ysPetf"
   },
   "source": [
    "## Разделение на train, test"
   ]
  },
  {
   "cell_type": "code",
   "execution_count": 4,
   "metadata": {},
   "outputs": [
    {
     "data": {
      "text/plain": [
       "True"
      ]
     },
     "execution_count": 4,
     "metadata": {},
     "output_type": "execute_result"
    }
   ],
   "source": [
    "df['Sex'].dtype == 'object'"
   ]
  },
  {
   "cell_type": "code",
   "execution_count": 5,
   "metadata": {
    "id": "NFgjTbFaPetg"
   },
   "outputs": [],
   "source": [
    "from sklearn.model_selection import train_test_split\n",
    "\n",
    "X_train, X_test, y_train, y_test = train_test_split(df_OHE, y, test_size = 0.1, random_state = 13)"
   ]
  },
  {
   "cell_type": "code",
   "execution_count": 6,
   "metadata": {
    "id": "Pi2vrBpTPetk"
   },
   "outputs": [
    {
     "name": "stdout",
     "output_type": "stream",
     "text": [
      "Train: 801\n",
      "Test: 90\n"
     ]
    }
   ],
   "source": [
    "print ('Train: ' + str(len(X_train)))\n",
    "print ('Test: ' + str(len(X_test)))"
   ]
  },
  {
   "cell_type": "markdown",
   "metadata": {
    "id": "LAwFQ_ozPetp"
   },
   "source": [
    "## Fit MyDecisionTree  \n",
    "Напишите свою функцию построения дерева.\n",
    "\n",
    "Структуру дерева можно задать, например, словарем следующего вида:  \n",
    "```python\n",
    "{'feature_name': 'Age', # название фичи \n",
    "'threshold': 20, # порог разбиения\n",
    "'left': 0,  # ссылка на левое поддерево, задан доминирующий класс\n",
    "'right': 1} # ссылка на правое поддерево, задан доминирующий класс\n",
    "```"
   ]
  },
  {
   "cell_type": "code",
   "execution_count": 7,
   "metadata": {
    "id": "b2hZgn-TPetq"
   },
   "outputs": [],
   "source": [
    "def get_thresholds(df, feature):\n",
    "    df_sort = df.sort_values(by=[feature])\n",
    "    values = df_sort[feature].drop_duplicates().values\n",
    "    if df[feature].dtype == 'object':\n",
    "        return values[:-1]\n",
    "    values = (values[1:] + values[:-1]) / 2\n",
    "    return values \n",
    "\n",
    "def get_target(df):\n",
    "    \"\"\"\n",
    "        Функция ищет доминирующий класс во входном DataFrame\n",
    "        Input - DataFrame\n",
    "        Output - 0 или 1\n",
    "        \n",
    "        Например, в исходных данных 490 нулей и 311 единиц.\n",
    "        Функция должна вернуть 0.\n",
    "    \"\"\"\n",
    "    \n",
    "    return df.target.value_counts().idxmax()\n",
    "\n",
    "\n",
    "def get_entropy(target):\n",
    "    \"\"\"\n",
    "        Функция считает энтропию заданного множества.\n",
    "        Input - таргет (тип - pandas.core.series.Series)\n",
    "        \n",
    "        Output - значение энтропии (тип - float)\n",
    "    \"\"\"\n",
    "    # YOUR CODE HERE\n",
    "    entropy = 0\n",
    "    if target.value_counts().shape[0] != 1:\n",
    "        entropy = (- target.value_counts()[0] / target.shape[0] * np.log2(target.value_counts()[0] / target.shape[0]) -\n",
    "                   target.value_counts()[1] / target.shape[0] * np.log2(target.value_counts()[1] / target.shape[0]))\n",
    "    \n",
    "    return entropy\n",
    "\n",
    "\n",
    "\n",
    "def feature_separation(df, f_name):\n",
    "    \"\"\"\n",
    "        Функция ищет лучшее разбиение для данной фичи.\n",
    "        Input - df: DataFrame с 2 атрибутами (feature, target), \n",
    "                f_name: название фичи (для которой ищем разбиение)\n",
    "                \n",
    "        Output - прирост энтропии, порог разбиения\n",
    "    \"\"\"\n",
    "    entropy_base = get_entropy(df.target)\n",
    "    if entropy_base == 0:\n",
    "        return (None, None)\n",
    "    \n",
    "    delta_entropy = 0\n",
    "    threshold = None\n",
    "    for thresh in get_thresholds(df, f_name):\n",
    "        left = get_entropy(df['target'].loc[df[f_name] <= thresh])\n",
    "        right = get_entropy(df['target'].loc[df[f_name] > thresh])\n",
    "        delta_entropy_temp = (entropy_base - df.loc[df[f_name] <= thresh].shape[0] / df.shape[0] * left - \n",
    "                              df.loc[df[f_name] > thresh].shape[0] / df.shape[0] * right)\n",
    "        if delta_entropy_temp > delta_entropy:\n",
    "            delta_entropy = delta_entropy_temp\n",
    "            threshold = thresh\n",
    "\n",
    "    return (delta_entropy, threshold)\n",
    "\n",
    "\n",
    "def best_separation(df):\n",
    "    \"\"\"\n",
    "        Функция выбирает фичу для разбиения, которая даст максимальный прирост энтропии.\n",
    "        Input - исходный DataFrame\n",
    "        \n",
    "        Output - словарь следующиего вида\n",
    "        {'feature_name': sep_feature, 'threshold': threshold, 'groups': groups}\n",
    "        \n",
    "            sep_feature - название фичи для разбиения (тип - String)\n",
    "            threshold - порог разбиения (тип - float)\n",
    "            groups - tuple из двух поддеревьев (df_left, df_right)\n",
    "    \"\"\"\n",
    "    \n",
    "    sep_feature, threshold, groups = None, None, df\n",
    "    all_features = [c for c in df.columns.tolist() if c != 'target']\n",
    "\n",
    "    max_entropy = 0\n",
    "    max_threshold = None\n",
    "    max_feature = None\n",
    "    for f in all_features:\n",
    "        entropy, threshold = feature_separation(df, f)\n",
    "        if entropy is None:\n",
    "            break\n",
    "        if entropy > max_entropy:\n",
    "            max_entropy = entropy\n",
    "            max_threshold = threshold\n",
    "            max_feature = f\n",
    "    sep_feature = max_feature\n",
    "    threshold = max_threshold\n",
    "    if entropy is None:\n",
    "        groups = (df, pd.DataFrame())\n",
    "    else:\n",
    "        groups = (df.loc[df[sep_feature] <= threshold], df.loc[df[sep_feature] > threshold])\n",
    "    \n",
    "    return {'feature_name': sep_feature, 'threshold': threshold, 'groups': groups}\n",
    "\n",
    "\n",
    "def split(node, max_depth, depth):\n",
    "    \"\"\"\n",
    "        Рекурсивная функция для построения дерева\n",
    "        Input - node: корень дерева\n",
    "                max_depth: максимальная глубина дерева\n",
    "                depth: текущая глубина дерева\n",
    "    \"\"\"\n",
    "    \n",
    "    df_left, df_right = node['groups']\n",
    "    sep_feature = node['feature_name']\n",
    "    del(node['groups'])\n",
    "    \n",
    "    # проверяем, есть ли разбиение\n",
    "    if len(df_left) == 0 or len(df_right) == 0:\n",
    "        node['left'] = node['right'] = get_target(df_left) if len(df_left) else get_target(df_)\n",
    "        return\n",
    "    \n",
    "    # проверяем максимальную глубину\n",
    "    if depth >= max_depth:\n",
    "        node['left'], node['right'] = get_target(df_left), get_target(df_right)\n",
    "        return\n",
    "    \n",
    "    else:\n",
    "        node['left'] = best_separation(df_left)\n",
    "        split(node['left'], max_depth, depth + 1)\n",
    "\n",
    "        node['right'] = best_separation(df_right)\n",
    "        split(node['right'], max_depth, depth + 1)\n",
    "        \n",
    "        \n",
    "def fit_my_tree(df, max_depth):\n",
    "    \"\"\"\n",
    "        Функция для обучения дерева\n",
    "        Input - df: DataFrame\n",
    "                max_depth: максимальная глубина дерева\n",
    "    \"\"\"    \n",
    "    root = best_separation(df)\n",
    "    split(root, max_depth, 1)\n",
    "\n",
    "    return root"
   ]
  },
  {
   "cell_type": "code",
   "execution_count": 8,
   "metadata": {
    "id": "JD7erX5NPetu"
   },
   "outputs": [
    {
     "name": "stderr",
     "output_type": "stream",
     "text": [
      "C:\\Users\\Dmitriy\\Anaconda3\\lib\\site-packages\\ipykernel_launcher.py:1: SettingWithCopyWarning: \n",
      "A value is trying to be set on a copy of a slice from a DataFrame.\n",
      "Try using .loc[row_indexer,col_indexer] = value instead\n",
      "\n",
      "See the caveats in the documentation: https://pandas.pydata.org/pandas-docs/stable/user_guide/indexing.html#returning-a-view-versus-a-copy\n",
      "  \"\"\"Entry point for launching an IPython kernel.\n"
     ]
    },
    {
     "name": "stdout",
     "output_type": "stream",
     "text": [
      "Wall time: 14.7 s\n"
     ]
    },
    {
     "name": "stderr",
     "output_type": "stream",
     "text": [
      "C:\\Users\\Dmitriy\\Anaconda3\\lib\\site-packages\\pandas\\core\\frame.py:4164: SettingWithCopyWarning: \n",
      "A value is trying to be set on a copy of a slice from a DataFrame\n",
      "\n",
      "See the caveats in the documentation: https://pandas.pydata.org/pandas-docs/stable/user_guide/indexing.html#returning-a-view-versus-a-copy\n",
      "  errors=errors,\n"
     ]
    }
   ],
   "source": [
    "%%time\n",
    "X_train['target'] = y_train\n",
    "my_tree = fit_my_tree(X_train, 4)\n",
    "X_train.drop(['target'], axis=1, inplace=True)"
   ]
  },
  {
   "cell_type": "code",
   "execution_count": 9,
   "metadata": {},
   "outputs": [
    {
     "data": {
      "text/plain": [
       "{'feature_name': 'Sex_male',\n",
       " 'threshold': 0.5,\n",
       " 'left': {'feature_name': 'Pclass_3',\n",
       "  'threshold': 0.5,\n",
       "  'left': {'feature_name': 'Fare',\n",
       "   'threshold': 28.85625,\n",
       "   'left': {'feature_name': 'Fare',\n",
       "    'threshold': 28.21665,\n",
       "    'left': 1,\n",
       "    'right': 0},\n",
       "   'right': {'feature_name': 'Age', 'threshold': 2.5, 'left': 0, 'right': 1}},\n",
       "  'right': {'feature_name': 'Fare',\n",
       "   'threshold': 24.808349999999997,\n",
       "   'left': {'feature_name': 'Embarked_S',\n",
       "    'threshold': 0.5,\n",
       "    'left': 1,\n",
       "    'right': 0},\n",
       "   'right': {'feature_name': 'Fare',\n",
       "    'threshold': 31.331249999999997,\n",
       "    'left': 0,\n",
       "    'right': 0}}},\n",
       " 'right': {'feature_name': 'Fare',\n",
       "  'threshold': 26.26875,\n",
       "  'left': {'feature_name': 'Age',\n",
       "   'threshold': 13.5,\n",
       "   'left': {'feature_name': 'SibSp_1',\n",
       "    'threshold': 0.5,\n",
       "    'left': 1,\n",
       "    'right': 1},\n",
       "   'right': {'feature_name': 'Age', 'threshold': 32.5, 'left': 0, 'right': 0}},\n",
       "  'right': {'feature_name': 'Fare',\n",
       "   'threshold': 26.46875,\n",
       "   'left': {'feature_name': None, 'threshold': None, 'left': 1, 'right': 1},\n",
       "   'right': {'feature_name': 'Age',\n",
       "    'threshold': 0.96,\n",
       "    'left': 1,\n",
       "    'right': 0}}}}"
      ]
     },
     "execution_count": 9,
     "metadata": {},
     "output_type": "execute_result"
    }
   ],
   "source": [
    "my_tree"
   ]
  },
  {
   "cell_type": "markdown",
   "metadata": {
    "id": "StlWI8UQPet1"
   },
   "source": [
    "## Predict MyDecisionTree  "
   ]
  },
  {
   "cell_type": "code",
   "execution_count": 10,
   "metadata": {
    "id": "amdgbKiNPet1"
   },
   "outputs": [],
   "source": [
    "def predict_raw(row, tree):\n",
    "    \"\"\"\n",
    "        Функция предсказывает класс для 1 строки DataFrame.\n",
    "        \n",
    "        Input - row: строка DataFrame\n",
    "                tree: обученное дерево на предыдущем шаге (тип - dict)\n",
    "    \"\"\"\n",
    "    if tree['feature_name'] is None:\n",
    "        return tree['right']\n",
    "    else:\n",
    "        if row[tree['feature_name']] <= tree['threshold']:\n",
    "            if type(tree['left']) == dict:\n",
    "                return predict_raw(row, tree['left'])\n",
    "            else:\n",
    "                return tree['left']\n",
    "        else:\n",
    "            if type(tree['right']) == dict:\n",
    "                return predict_raw(row, tree['right'])\n",
    "            else:\n",
    "                return tree['right']\n",
    "    \n",
    "    \n",
    "def predict_my_tree(df, tree):\n",
    "    \"\"\"\n",
    "        Функция предсказывает класс для исходного DataFrame.\n",
    "        \n",
    "        Input - df: исходный DataFrame\n",
    "                tree: обученное дерево на предыдущем шаге (тип - dict)\n",
    "                \n",
    "        Output - предсказанные классы (тип - pandas.core.series.Series)\n",
    "    \"\"\"      \n",
    "    predict = pd.Series()   \n",
    "    for index, row in df.iterrows():\n",
    "        prediction = pd.Series(predict_raw(row, tree), [index])\n",
    "        predict = predict.append(prediction)    \n",
    "        \n",
    "    return predict"
   ]
  },
  {
   "cell_type": "code",
   "execution_count": 11,
   "metadata": {
    "id": "RTvqVMq5Pet4"
   },
   "outputs": [
    {
     "name": "stderr",
     "output_type": "stream",
     "text": [
      "C:\\Users\\Dmitriy\\Anaconda3\\lib\\site-packages\\ipykernel_launcher.py:32: DeprecationWarning: The default dtype for empty Series will be 'object' instead of 'float64' in a future version. Specify a dtype explicitly to silence this warning.\n"
     ]
    }
   ],
   "source": [
    "my_pred_test = predict_my_tree(X_test, my_tree)\n",
    "my_pred_train = predict_my_tree(X_train, my_tree)"
   ]
  },
  {
   "cell_type": "markdown",
   "metadata": {
    "id": "q7ywEJyuPet8"
   },
   "source": [
    "## Train with sklearn \n",
    "\n",
    "Обучите дерево, используя библиотеку sklearn. Задайте те же параметры, что и при обучении своего дерева.  \n",
    "\n",
    "Сравните метрики и попробуйте улучшить ваше дерево."
   ]
  },
  {
   "cell_type": "code",
   "execution_count": 12,
   "metadata": {
    "id": "vHf0AvUaPet9"
   },
   "outputs": [],
   "source": [
    "from sklearn import tree"
   ]
  },
  {
   "cell_type": "code",
   "execution_count": 13,
   "metadata": {
    "id": "DRDjiZtmPeuA"
   },
   "outputs": [
    {
     "name": "stdout",
     "output_type": "stream",
     "text": [
      "Wall time: 8.99 ms\n"
     ]
    }
   ],
   "source": [
    "%%time\n",
    "clf_tree = tree.DecisionTreeClassifier(criterion='entropy', random_state=0, max_depth=4)\n",
    "\n",
    "# обучаем дерево\n",
    "clf_tree.fit(X_train, y_train)\n",
    "\n",
    "# предсказание на тестовой и обучающей выборках\n",
    "y_pred_test = clf_tree.predict(X_test)\n",
    "y_pred_train = clf_tree.predict(X_train)"
   ]
  },
  {
   "cell_type": "code",
   "execution_count": 14,
   "metadata": {
    "id": "sDDlAapiUcyZ"
   },
   "outputs": [
    {
     "data": {
      "image/png": "[encoded data removed]",
      "text/plain": [
       "<Figure size 1200x1200 with 1 Axes>"
      ]
     },
     "metadata": {
      "needs_background": "light"
     },
     "output_type": "display_data"
    }
   ],
   "source": [
    "from matplotlib import pyplot as plt\n",
    "#Отрисовать дерево можно вот так:   \n",
    "fig, axes = plt.subplots(nrows = 1,ncols = 1,figsize = (4,4), dpi=300)\n",
    "tree.plot_tree(clf_tree, feature_names = X_train.columns);"
   ]
  },
  {
   "cell_type": "markdown",
   "metadata": {
    "id": "b2VC_9C_PeuD"
   },
   "source": [
    "## Сравнение метрик"
   ]
  },
  {
   "cell_type": "code",
   "execution_count": 15,
   "metadata": {
    "id": "9x70s9LaPeuE",
    "scrolled": true
   },
   "outputs": [],
   "source": [
    "# метрики при обучении, используя библиотеку sklearn\n",
    "skl_roc_train = roc_auc_score(y_train, y_pred_train)\n",
    "skl_roc_test = roc_auc_score(y_test, y_pred_test)\n",
    "\n",
    "# метрики при обучении, используя собственный алгоритм\n",
    "my_roc_train = roc_auc_score(y_train, my_pred_train)\n",
    "my_roc_test = roc_auc_score(y_test, my_pred_test)"
   ]
  },
  {
   "cell_type": "code",
   "execution_count": 16,
   "metadata": {},
   "outputs": [
    {
     "name": "stdout",
     "output_type": "stream",
     "text": [
      "0.7895024603608528\n"
     ]
    }
   ],
   "source": [
    "print(my_roc_test)"
   ]
  },
  {
   "cell_type": "code",
   "execution_count": 17,
   "metadata": {},
   "outputs": [
    {
     "name": "stdout",
     "output_type": "stream",
     "text": [
      "0.7895024603608528\n"
     ]
    }
   ],
   "source": [
    "print(skl_roc_test)"
   ]
  },
  {
   "cell_type": "code",
   "execution_count": 18,
   "metadata": {
    "id": "clOhv57YPeuH"
   },
   "outputs": [],
   "source": [
    "#assert abs(my_roc_test - 0.6) >= 0.2\n",
    "assert 0.98 <= skl_roc_test / my_roc_test <= 1.02"
   ]
  },
  {
   "cell_type": "markdown",
   "metadata": {},
   "source": [
    "# Алгоритм с поддержкой категориальных признаков"
   ]
  },
  {
   "cell_type": "code",
   "execution_count": 23,
   "metadata": {},
   "outputs": [
    {
     "data": {
      "text/html": [
       "<div>\n",
       "<style scoped>\n",
       "    .dataframe tbody tr th:only-of-type {\n",
       "        vertical-align: middle;\n",
       "    }\n",
       "\n",
       "    .dataframe tbody tr th {\n",
       "        vertical-align: top;\n",
       "    }\n",
       "\n",
       "    .dataframe thead th {\n",
       "        text-align: right;\n",
       "    }\n",
       "</style>\n",
       "<table border=\"1\" class=\"dataframe\">\n",
       "  <thead>\n",
       "    <tr style=\"text-align: right;\">\n",
       "      <th></th>\n",
       "      <th>Pclass</th>\n",
       "      <th>Sex</th>\n",
       "      <th>Age</th>\n",
       "      <th>SibSp</th>\n",
       "      <th>Parch</th>\n",
       "      <th>Fare</th>\n",
       "      <th>Embarked</th>\n",
       "    </tr>\n",
       "  </thead>\n",
       "  <tbody>\n",
       "    <tr>\n",
       "      <th>0</th>\n",
       "      <td>3</td>\n",
       "      <td>male</td>\n",
       "      <td>22.0</td>\n",
       "      <td>1</td>\n",
       "      <td>0</td>\n",
       "      <td>7.2500</td>\n",
       "      <td>S</td>\n",
       "    </tr>\n",
       "    <tr>\n",
       "      <th>1</th>\n",
       "      <td>1</td>\n",
       "      <td>female</td>\n",
       "      <td>38.0</td>\n",
       "      <td>1</td>\n",
       "      <td>0</td>\n",
       "      <td>71.2833</td>\n",
       "      <td>C</td>\n",
       "    </tr>\n",
       "    <tr>\n",
       "      <th>2</th>\n",
       "      <td>3</td>\n",
       "      <td>female</td>\n",
       "      <td>26.0</td>\n",
       "      <td>0</td>\n",
       "      <td>0</td>\n",
       "      <td>7.9250</td>\n",
       "      <td>S</td>\n",
       "    </tr>\n",
       "    <tr>\n",
       "      <th>3</th>\n",
       "      <td>1</td>\n",
       "      <td>female</td>\n",
       "      <td>35.0</td>\n",
       "      <td>1</td>\n",
       "      <td>0</td>\n",
       "      <td>53.1000</td>\n",
       "      <td>S</td>\n",
       "    </tr>\n",
       "    <tr>\n",
       "      <th>4</th>\n",
       "      <td>3</td>\n",
       "      <td>male</td>\n",
       "      <td>35.0</td>\n",
       "      <td>0</td>\n",
       "      <td>0</td>\n",
       "      <td>8.0500</td>\n",
       "      <td>S</td>\n",
       "    </tr>\n",
       "    <tr>\n",
       "      <th>...</th>\n",
       "      <td>...</td>\n",
       "      <td>...</td>\n",
       "      <td>...</td>\n",
       "      <td>...</td>\n",
       "      <td>...</td>\n",
       "      <td>...</td>\n",
       "      <td>...</td>\n",
       "    </tr>\n",
       "    <tr>\n",
       "      <th>886</th>\n",
       "      <td>2</td>\n",
       "      <td>male</td>\n",
       "      <td>27.0</td>\n",
       "      <td>0</td>\n",
       "      <td>0</td>\n",
       "      <td>13.0000</td>\n",
       "      <td>S</td>\n",
       "    </tr>\n",
       "    <tr>\n",
       "      <th>887</th>\n",
       "      <td>1</td>\n",
       "      <td>female</td>\n",
       "      <td>19.0</td>\n",
       "      <td>0</td>\n",
       "      <td>0</td>\n",
       "      <td>30.0000</td>\n",
       "      <td>S</td>\n",
       "    </tr>\n",
       "    <tr>\n",
       "      <th>888</th>\n",
       "      <td>3</td>\n",
       "      <td>female</td>\n",
       "      <td>28.0</td>\n",
       "      <td>1</td>\n",
       "      <td>2</td>\n",
       "      <td>23.4500</td>\n",
       "      <td>S</td>\n",
       "    </tr>\n",
       "    <tr>\n",
       "      <th>889</th>\n",
       "      <td>1</td>\n",
       "      <td>male</td>\n",
       "      <td>26.0</td>\n",
       "      <td>0</td>\n",
       "      <td>0</td>\n",
       "      <td>30.0000</td>\n",
       "      <td>C</td>\n",
       "    </tr>\n",
       "    <tr>\n",
       "      <th>890</th>\n",
       "      <td>3</td>\n",
       "      <td>male</td>\n",
       "      <td>32.0</td>\n",
       "      <td>0</td>\n",
       "      <td>0</td>\n",
       "      <td>7.7500</td>\n",
       "      <td>Q</td>\n",
       "    </tr>\n",
       "  </tbody>\n",
       "</table>\n",
       "<p>891 rows × 7 columns</p>\n",
       "</div>"
      ],
      "text/plain": [
       "     Pclass     Sex   Age  SibSp  Parch     Fare Embarked\n",
       "0         3    male  22.0      1      0   7.2500        S\n",
       "1         1  female  38.0      1      0  71.2833        C\n",
       "2         3  female  26.0      0      0   7.9250        S\n",
       "3         1  female  35.0      1      0  53.1000        S\n",
       "4         3    male  35.0      0      0   8.0500        S\n",
       "..      ...     ...   ...    ...    ...      ...      ...\n",
       "886       2    male  27.0      0      0  13.0000        S\n",
       "887       1  female  19.0      0      0  30.0000        S\n",
       "888       3  female  28.0      1      2  23.4500        S\n",
       "889       1    male  26.0      0      0  30.0000        C\n",
       "890       3    male  32.0      0      0   7.7500        Q\n",
       "\n",
       "[891 rows x 7 columns]"
      ]
     },
     "execution_count": 23,
     "metadata": {},
     "output_type": "execute_result"
    }
   ],
   "source": [
    "df"
   ]
  },
  {
   "cell_type": "code",
   "execution_count": 19,
   "metadata": {},
   "outputs": [],
   "source": [
    "from sklearn.model_selection import train_test_split\n",
    "\n",
    "X_train_cat, X_test_cat, y_train_cat, y_test_cat = train_test_split(df, y, test_size = 0.1, random_state = 13)"
   ]
  },
  {
   "cell_type": "code",
   "execution_count": 20,
   "metadata": {},
   "outputs": [
    {
     "name": "stderr",
     "output_type": "stream",
     "text": [
      "C:\\Users\\Dmitriy\\Anaconda3\\lib\\site-packages\\ipykernel_launcher.py:1: SettingWithCopyWarning: \n",
      "A value is trying to be set on a copy of a slice from a DataFrame.\n",
      "Try using .loc[row_indexer,col_indexer] = value instead\n",
      "\n",
      "See the caveats in the documentation: https://pandas.pydata.org/pandas-docs/stable/user_guide/indexing.html#returning-a-view-versus-a-copy\n",
      "  \"\"\"Entry point for launching an IPython kernel.\n"
     ]
    },
    {
     "name": "stdout",
     "output_type": "stream",
     "text": [
      "Wall time: 14.4 s\n"
     ]
    },
    {
     "name": "stderr",
     "output_type": "stream",
     "text": [
      "C:\\Users\\Dmitriy\\Anaconda3\\lib\\site-packages\\pandas\\core\\frame.py:4164: SettingWithCopyWarning: \n",
      "A value is trying to be set on a copy of a slice from a DataFrame\n",
      "\n",
      "See the caveats in the documentation: https://pandas.pydata.org/pandas-docs/stable/user_guide/indexing.html#returning-a-view-versus-a-copy\n",
      "  errors=errors,\n"
     ]
    }
   ],
   "source": [
    "%%time\n",
    "X_train_cat['target'] = y_train\n",
    "my_tree_cat = fit_my_tree(X_train_cat, 4)\n",
    "X_train_cat.drop(['target'], axis=1, inplace=True)"
   ]
  },
  {
   "cell_type": "code",
   "execution_count": 21,
   "metadata": {},
   "outputs": [
    {
     "name": "stderr",
     "output_type": "stream",
     "text": [
      "C:\\Users\\Dmitriy\\Anaconda3\\lib\\site-packages\\ipykernel_launcher.py:32: DeprecationWarning: The default dtype for empty Series will be 'object' instead of 'float64' in a future version. Specify a dtype explicitly to silence this warning.\n"
     ]
    }
   ],
   "source": [
    "my_pred_test_cat = predict_my_tree(X_test_cat, my_tree_cat)"
   ]
  },
  {
   "cell_type": "code",
   "execution_count": 22,
   "metadata": {},
   "outputs": [
    {
     "data": {
      "text/plain": [
       "0.7895024603608528"
      ]
     },
     "execution_count": 22,
     "metadata": {},
     "output_type": "execute_result"
    }
   ],
   "source": [
    " roc_auc_score(y_test_cat, my_pred_test_cat)"
   ]
  },
  {
   "cell_type": "markdown",
   "metadata": {},
   "source": [
    "результаты совпали"
   ]
  }
 ],
 "metadata": {
  "colab": {
   "name": "my_decision_tree_clf.ipynb",
   "provenance": []
  },
  "kernelspec": {
   "display_name": "Python 3",
   "language": "python",
   "name": "python3"
  },
  "language_info": {
   "codemirror_mode": {
    "name": "ipython",
    "version": 3
   },
   "file_extension": ".py",
   "mimetype": "text/x-python",
   "name": "python",
   "nbconvert_exporter": "python",
   "pygments_lexer": "ipython3",
   "version": "3.7.7"
  },
  "toc": {
   "base_numbering": 1,
   "nav_menu": {},
   "number_sections": true,
   "sideBar": true,
   "skip_h1_title": true,
   "title_cell": "Table of Contents",
   "title_sidebar": "Contents",
   "toc_cell": true,
   "toc_position": {},
   "toc_section_display": true,
   "toc_window_display": true
  }
 },
 "nbformat": 4,
 "nbformat_minor": 1
}
