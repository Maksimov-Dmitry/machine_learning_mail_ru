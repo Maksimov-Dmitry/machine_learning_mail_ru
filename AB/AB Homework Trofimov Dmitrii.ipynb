{
 "cells": [
  {
   "cell_type": "markdown",
   "metadata": {},
   "source": [
    "## AB Tests"
   ]
  },
  {
   "cell_type": "markdown",
   "metadata": {},
   "source": [
    "### 1. Оценка результатов AB теста"
   ]
  },
  {
   "cell_type": "markdown",
   "metadata": {},
   "source": [
    "В данном задании вам требуется оценить результаты AB теста. Даны результаты на контрольной и тестовой группе после проведения AB теста.\n",
    "Помимо показателей целевой переменной, вам даны также несколько фичей, которые являются характеристиками объектов. Даны целевые показатели (y) и принадлежность к целевой группе (W).\n",
    "\n",
    "</u>Задача:</u>\n",
    "1. Проверьте подходящую для данных гипотезу о равенстве средних в выборках\n",
    "2. Каков treatment effect нашего воздействия? (ATE) \n",
    "3. Примените известные вам методы оценки ATE с учетом особенностей данных.\n",
    "4. Проанализируйте, сравните результаты применения различных методов.\n",
    "5. В явном виде выпишите выводы.\n",
    "\n",
    "</i>Примечание: предположения о рандомизированном эксперименте нуждаются в проверке - независимость treatment от объектов не гарантирована. Все предположения выписывайте явно.</i> \n",
    "\n",
    "Для данной задачи используется dataset:  dataset_part1_students.csv"
   ]
  },
  {
   "cell_type": "code",
   "execution_count": 143,
   "metadata": {},
   "outputs": [],
   "source": [
    "import pandas as pd\n",
    "import numpy as np\n",
    "from statsmodels.stats.weightstats import ztest\n",
    "from scipy.stats import chisquare\n",
    "from sklearn.linear_model import LinearRegression, LogisticRegression\n",
    "import statsmodels.formula.api as smf\n",
    "import numpy as np\n",
    "import causalml"
   ]
  },
  {
   "cell_type": "code",
   "execution_count": 111,
   "metadata": {},
   "outputs": [],
   "source": [
    "dataset1 = pd.read_csv(\"data\\dataset_part1_students.csv\", sep='\\t')"
   ]
  },
  {
   "cell_type": "code",
   "execution_count": 112,
   "metadata": {},
   "outputs": [
    {
     "data": {
      "text/html": [
       "<div>\n",
       "<style scoped>\n",
       "    .dataframe tbody tr th:only-of-type {\n",
       "        vertical-align: middle;\n",
       "    }\n",
       "\n",
       "    .dataframe tbody tr th {\n",
       "        vertical-align: top;\n",
       "    }\n",
       "\n",
       "    .dataframe thead th {\n",
       "        text-align: right;\n",
       "    }\n",
       "</style>\n",
       "<table border=\"1\" class=\"dataframe\">\n",
       "  <thead>\n",
       "    <tr style=\"text-align: right;\">\n",
       "      <th></th>\n",
       "      <th>y</th>\n",
       "      <th>W</th>\n",
       "      <th>X_1</th>\n",
       "      <th>X_2</th>\n",
       "      <th>X_3</th>\n",
       "      <th>X_4</th>\n",
       "      <th>X_5</th>\n",
       "      <th>X_6</th>\n",
       "      <th>X_7</th>\n",
       "      <th>X_8</th>\n",
       "      <th>X_9</th>\n",
       "      <th>X_10</th>\n",
       "    </tr>\n",
       "  </thead>\n",
       "  <tbody>\n",
       "    <tr>\n",
       "      <th>0</th>\n",
       "      <td>-1.459404</td>\n",
       "      <td>0.0</td>\n",
       "      <td>0.986277</td>\n",
       "      <td>0.873392</td>\n",
       "      <td>0.509746</td>\n",
       "      <td>0.271836</td>\n",
       "      <td>0.336919</td>\n",
       "      <td>0.216954</td>\n",
       "      <td>0.276477</td>\n",
       "      <td>0.343316</td>\n",
       "      <td>0.862159</td>\n",
       "      <td>0.156700</td>\n",
       "    </tr>\n",
       "    <tr>\n",
       "      <th>1</th>\n",
       "      <td>-1.694174</td>\n",
       "      <td>0.0</td>\n",
       "      <td>0.140887</td>\n",
       "      <td>0.757080</td>\n",
       "      <td>0.736325</td>\n",
       "      <td>0.355663</td>\n",
       "      <td>0.341093</td>\n",
       "      <td>0.666803</td>\n",
       "      <td>0.217101</td>\n",
       "      <td>0.561427</td>\n",
       "      <td>0.124179</td>\n",
       "      <td>0.319736</td>\n",
       "    </tr>\n",
       "    <tr>\n",
       "      <th>2</th>\n",
       "      <td>5.378374</td>\n",
       "      <td>0.0</td>\n",
       "      <td>0.953214</td>\n",
       "      <td>0.137357</td>\n",
       "      <td>0.569413</td>\n",
       "      <td>0.975665</td>\n",
       "      <td>0.503367</td>\n",
       "      <td>0.667664</td>\n",
       "      <td>0.034191</td>\n",
       "      <td>0.456119</td>\n",
       "      <td>0.155851</td>\n",
       "      <td>0.476049</td>\n",
       "    </tr>\n",
       "    <tr>\n",
       "      <th>3</th>\n",
       "      <td>2.188189</td>\n",
       "      <td>1.0</td>\n",
       "      <td>0.169702</td>\n",
       "      <td>0.896258</td>\n",
       "      <td>0.373394</td>\n",
       "      <td>0.379693</td>\n",
       "      <td>0.858317</td>\n",
       "      <td>0.646061</td>\n",
       "      <td>0.583462</td>\n",
       "      <td>0.668350</td>\n",
       "      <td>0.177793</td>\n",
       "      <td>0.849248</td>\n",
       "    </tr>\n",
       "    <tr>\n",
       "      <th>4</th>\n",
       "      <td>2.862696</td>\n",
       "      <td>1.0</td>\n",
       "      <td>0.442373</td>\n",
       "      <td>0.831468</td>\n",
       "      <td>0.763921</td>\n",
       "      <td>0.919691</td>\n",
       "      <td>0.070573</td>\n",
       "      <td>0.156165</td>\n",
       "      <td>0.636894</td>\n",
       "      <td>0.555696</td>\n",
       "      <td>0.191929</td>\n",
       "      <td>0.425656</td>\n",
       "    </tr>\n",
       "  </tbody>\n",
       "</table>\n",
       "</div>"
      ],
      "text/plain": [
       "          y    W       X_1       X_2       X_3       X_4       X_5       X_6  \\\n",
       "0 -1.459404  0.0  0.986277  0.873392  0.509746  0.271836  0.336919  0.216954   \n",
       "1 -1.694174  0.0  0.140887  0.757080  0.736325  0.355663  0.341093  0.666803   \n",
       "2  5.378374  0.0  0.953214  0.137357  0.569413  0.975665  0.503367  0.667664   \n",
       "3  2.188189  1.0  0.169702  0.896258  0.373394  0.379693  0.858317  0.646061   \n",
       "4  2.862696  1.0  0.442373  0.831468  0.763921  0.919691  0.070573  0.156165   \n",
       "\n",
       "        X_7       X_8       X_9      X_10  \n",
       "0  0.276477  0.343316  0.862159  0.156700  \n",
       "1  0.217101  0.561427  0.124179  0.319736  \n",
       "2  0.034191  0.456119  0.155851  0.476049  \n",
       "3  0.583462  0.668350  0.177793  0.849248  \n",
       "4  0.636894  0.555696  0.191929  0.425656  "
      ]
     },
     "execution_count": 112,
     "metadata": {},
     "output_type": "execute_result"
    }
   ],
   "source": [
    "dataset1.head()"
   ]
  },
  {
   "cell_type": "markdown",
   "metadata": {},
   "source": [
    "#### 1. Гипотеза о равенстве средних в выборках"
   ]
  },
  {
   "cell_type": "code",
   "execution_count": 113,
   "metadata": {},
   "outputs": [],
   "source": [
    "y0 = dataset1[dataset1['W'] == 0]['y'].array\n",
    "y1 = dataset1[dataset1['W'] == 1]['y'].array"
   ]
  },
  {
   "cell_type": "code",
   "execution_count": 114,
   "metadata": {},
   "outputs": [
    {
     "data": {
      "text/plain": [
       "(9.332400850259313, 1.0349941796938945e-20)"
      ]
     },
     "execution_count": 114,
     "metadata": {},
     "output_type": "execute_result"
    }
   ],
   "source": [
    "ztest(y1, y0)"
   ]
  },
  {
   "cell_type": "markdown",
   "metadata": {},
   "source": [
    "Здесь pvalue - очень маленькое значение, значит гипотеза о равенстве средних отвергается"
   ]
  },
  {
   "cell_type": "markdown",
   "metadata": {},
   "source": [
    "#### 2,3. Treatment effect"
   ]
  },
  {
   "cell_type": "markdown",
   "metadata": {},
   "source": [
    "Чтобы найти ATE, пусть y - это Y, так как в ином случае только по таргету y мы не сможем найти ATE. Но тогда исходя из 1 пункта у нас уже получается зависимость Y от W, потому что средние значения y отличаются в обоих случаях. Это можно увидеть и отсюда:"
   ]
  },
  {
   "cell_type": "code",
   "execution_count": 115,
   "metadata": {},
   "outputs": [
    {
     "data": {
      "text/html": [
       "<div>\n",
       "<style scoped>\n",
       "    .dataframe tbody tr th:only-of-type {\n",
       "        vertical-align: middle;\n",
       "    }\n",
       "\n",
       "    .dataframe tbody tr th {\n",
       "        vertical-align: top;\n",
       "    }\n",
       "\n",
       "    .dataframe thead th {\n",
       "        text-align: right;\n",
       "    }\n",
       "</style>\n",
       "<table border=\"1\" class=\"dataframe\">\n",
       "  <thead>\n",
       "    <tr style=\"text-align: right;\">\n",
       "      <th></th>\n",
       "      <th>y</th>\n",
       "      <th>X_1</th>\n",
       "      <th>X_2</th>\n",
       "      <th>X_3</th>\n",
       "      <th>X_4</th>\n",
       "      <th>X_5</th>\n",
       "      <th>X_6</th>\n",
       "      <th>X_7</th>\n",
       "      <th>X_8</th>\n",
       "      <th>X_9</th>\n",
       "      <th>X_10</th>\n",
       "    </tr>\n",
       "    <tr>\n",
       "      <th>W</th>\n",
       "      <th></th>\n",
       "      <th></th>\n",
       "      <th></th>\n",
       "      <th></th>\n",
       "      <th></th>\n",
       "      <th></th>\n",
       "      <th></th>\n",
       "      <th></th>\n",
       "      <th></th>\n",
       "      <th></th>\n",
       "      <th></th>\n",
       "    </tr>\n",
       "  </thead>\n",
       "  <tbody>\n",
       "    <tr>\n",
       "      <th>0.0</th>\n",
       "      <td>1.866349</td>\n",
       "      <td>0.39691</td>\n",
       "      <td>0.390728</td>\n",
       "      <td>0.505678</td>\n",
       "      <td>0.499297</td>\n",
       "      <td>0.497471</td>\n",
       "      <td>0.499891</td>\n",
       "      <td>0.496947</td>\n",
       "      <td>0.497261</td>\n",
       "      <td>0.499343</td>\n",
       "      <td>0.499442</td>\n",
       "    </tr>\n",
       "    <tr>\n",
       "      <th>1.0</th>\n",
       "      <td>2.266452</td>\n",
       "      <td>0.59806</td>\n",
       "      <td>0.593573</td>\n",
       "      <td>0.497915</td>\n",
       "      <td>0.502627</td>\n",
       "      <td>0.497835</td>\n",
       "      <td>0.502462</td>\n",
       "      <td>0.498642</td>\n",
       "      <td>0.496682</td>\n",
       "      <td>0.500562</td>\n",
       "      <td>0.498393</td>\n",
       "    </tr>\n",
       "  </tbody>\n",
       "</table>\n",
       "</div>"
      ],
      "text/plain": [
       "            y      X_1       X_2       X_3       X_4       X_5       X_6  \\\n",
       "W                                                                          \n",
       "0.0  1.866349  0.39691  0.390728  0.505678  0.499297  0.497471  0.499891   \n",
       "1.0  2.266452  0.59806  0.593573  0.497915  0.502627  0.497835  0.502462   \n",
       "\n",
       "          X_7       X_8       X_9      X_10  \n",
       "W                                            \n",
       "0.0  0.496947  0.497261  0.499343  0.499442  \n",
       "1.0  0.498642  0.496682  0.500562  0.498393  "
      ]
     },
     "execution_count": 115,
     "metadata": {},
     "output_type": "execute_result"
    }
   ],
   "source": [
    "dataset1.groupby('W').mean()"
   ]
  },
  {
   "cell_type": "markdown",
   "metadata": {},
   "source": [
    "Отсюда также очевидно, что если характеристики X_3 - X_10 в обоих случаях (при W = 0 и W = 1) независимы и их средние примерно равны, то вот средние значения X_1 и X_2 в обоих пулах сильно отличаются. Это значит, что в пул W = 0 и в пул W = 1 по этим критериям объекты отбирались не рандомизированно."
   ]
  },
  {
   "cell_type": "markdown",
   "metadata": {},
   "source": [
    "Можно использовать linear regression для нахождения ATE (это будет коэффициент перед W):"
   ]
  },
  {
   "cell_type": "code",
   "execution_count": 116,
   "metadata": {},
   "outputs": [],
   "source": [
    "model = LinearRegression()\n",
    "x = dataset1.drop('y', axis=1)\n",
    "y = dataset1['y']\n",
    "model.fit(x, y)\n",
    "ATE_1 = model.coef_[0]"
   ]
  },
  {
   "cell_type": "code",
   "execution_count": 117,
   "metadata": {},
   "outputs": [
    {
     "data": {
      "text/plain": [
       "0.5133854882565507"
      ]
     },
     "execution_count": 117,
     "metadata": {},
     "output_type": "execute_result"
    }
   ],
   "source": [
    "ATE_1"
   ]
  },
  {
   "cell_type": "markdown",
   "metadata": {},
   "source": [
    "#### 4. Анализ и сравнение результатов"
   ]
  },
  {
   "cell_type": "markdown",
   "metadata": {},
   "source": [
    "Здесь можно попробовать сравнить наше значение ATE, полученное в линейной регрессии, с разницей средних (это значение было бы, если бы W и Y у нас были бы полностью независимы). Они должны отличаться, что мы и видим:"
   ]
  },
  {
   "cell_type": "code",
   "execution_count": 118,
   "metadata": {},
   "outputs": [],
   "source": [
    "Y_0 = dataset1.groupby('W').mean()['y'][0]\n",
    "Y_1 = dataset1.groupby('W').mean()['y'][1]\n",
    "ATE_if_independent = Y_1 - Y_0"
   ]
  },
  {
   "cell_type": "code",
   "execution_count": 119,
   "metadata": {},
   "outputs": [
    {
     "data": {
      "text/plain": [
       "0.4001031055444413"
      ]
     },
     "execution_count": 119,
     "metadata": {},
     "output_type": "execute_result"
    }
   ],
   "source": [
    "ATE_if_independent"
   ]
  },
  {
   "cell_type": "markdown",
   "metadata": {},
   "source": [
    "#### 5. Выводы"
   ]
  },
  {
   "cell_type": "markdown",
   "metadata": {},
   "source": [
    "Если принять, что в данном случае у нас всё же дан Y, то можно рассчитать ATE, используя линейную регрессию, так как W и Y зависимы. Если же это было бы не так, мы бы нашли ATE как разность Y_1 и Y_0"
   ]
  },
  {
   "cell_type": "markdown",
   "metadata": {},
   "source": [
    "### 2. Оценка результатов AB теста с показателями до начала эксперимента"
   ]
  },
  {
   "cell_type": "markdown",
   "metadata": {},
   "source": [
    "Необходимо как и ранее оценить результаты AB теста, а именно ATE. Вы располагаете результатами до и после проведения теста (y_0 и y_1), а также вам дан treatment assignment (W). \n",
    "\n",
    "Необходимо: \n",
    "1. Проверить все требуемые гипотезы\n",
    "2. Оценить ATE подходящим для этого случая методом (примените несколько методов)\n",
    "3. Сравнить и проанализировать результаты оценок\n",
    "4. Явно выписать выводы.\n",
    "\n",
    "Как и прежде, все предположения должны быть указаны. Визуализация результатов приветствуется.\n",
    "\n",
    "dataset_part2_students.csv"
   ]
  },
  {
   "cell_type": "code",
   "execution_count": 120,
   "metadata": {},
   "outputs": [],
   "source": [
    "dataset2 = pd.read_csv(\"data\\dataset_part2_students.csv\", sep='\\t')"
   ]
  },
  {
   "cell_type": "code",
   "execution_count": 121,
   "metadata": {},
   "outputs": [
    {
     "data": {
      "text/html": [
       "<div>\n",
       "<style scoped>\n",
       "    .dataframe tbody tr th:only-of-type {\n",
       "        vertical-align: middle;\n",
       "    }\n",
       "\n",
       "    .dataframe tbody tr th {\n",
       "        vertical-align: top;\n",
       "    }\n",
       "\n",
       "    .dataframe thead th {\n",
       "        text-align: right;\n",
       "    }\n",
       "</style>\n",
       "<table border=\"1\" class=\"dataframe\">\n",
       "  <thead>\n",
       "    <tr style=\"text-align: right;\">\n",
       "      <th></th>\n",
       "      <th>y_1</th>\n",
       "      <th>y_0</th>\n",
       "      <th>W</th>\n",
       "      <th>X_1</th>\n",
       "      <th>X_2</th>\n",
       "      <th>X_3</th>\n",
       "      <th>X_4</th>\n",
       "      <th>X_5</th>\n",
       "      <th>X_6</th>\n",
       "      <th>X_7</th>\n",
       "      <th>X_8</th>\n",
       "      <th>X_9</th>\n",
       "      <th>X_10</th>\n",
       "    </tr>\n",
       "  </thead>\n",
       "  <tbody>\n",
       "    <tr>\n",
       "      <th>0</th>\n",
       "      <td>5.887156</td>\n",
       "      <td>2.785060</td>\n",
       "      <td>1.0</td>\n",
       "      <td>0.605978</td>\n",
       "      <td>0.733369</td>\n",
       "      <td>0.138947</td>\n",
       "      <td>0.312673</td>\n",
       "      <td>0.997243</td>\n",
       "      <td>0.128162</td>\n",
       "      <td>0.178993</td>\n",
       "      <td>0.752925</td>\n",
       "      <td>0.662161</td>\n",
       "      <td>0.784310</td>\n",
       "    </tr>\n",
       "    <tr>\n",
       "      <th>1</th>\n",
       "      <td>2.232601</td>\n",
       "      <td>5.533515</td>\n",
       "      <td>0.0</td>\n",
       "      <td>0.096894</td>\n",
       "      <td>0.058571</td>\n",
       "      <td>0.962396</td>\n",
       "      <td>0.616557</td>\n",
       "      <td>0.086630</td>\n",
       "      <td>0.561272</td>\n",
       "      <td>0.616525</td>\n",
       "      <td>0.963843</td>\n",
       "      <td>0.574304</td>\n",
       "      <td>0.371161</td>\n",
       "    </tr>\n",
       "    <tr>\n",
       "      <th>2</th>\n",
       "      <td>0.144419</td>\n",
       "      <td>0.095546</td>\n",
       "      <td>1.0</td>\n",
       "      <td>0.452145</td>\n",
       "      <td>0.201850</td>\n",
       "      <td>0.569305</td>\n",
       "      <td>0.195096</td>\n",
       "      <td>0.583704</td>\n",
       "      <td>0.476313</td>\n",
       "      <td>0.517814</td>\n",
       "      <td>0.823099</td>\n",
       "      <td>0.732225</td>\n",
       "      <td>0.069056</td>\n",
       "    </tr>\n",
       "    <tr>\n",
       "      <th>3</th>\n",
       "      <td>-2.446425</td>\n",
       "      <td>3.590472</td>\n",
       "      <td>1.0</td>\n",
       "      <td>0.672129</td>\n",
       "      <td>0.643485</td>\n",
       "      <td>0.828014</td>\n",
       "      <td>0.204469</td>\n",
       "      <td>0.617489</td>\n",
       "      <td>0.617701</td>\n",
       "      <td>0.301069</td>\n",
       "      <td>0.871741</td>\n",
       "      <td>0.589654</td>\n",
       "      <td>0.981770</td>\n",
       "    </tr>\n",
       "    <tr>\n",
       "      <th>4</th>\n",
       "      <td>2.163090</td>\n",
       "      <td>1.365405</td>\n",
       "      <td>0.0</td>\n",
       "      <td>0.442232</td>\n",
       "      <td>0.126318</td>\n",
       "      <td>0.508831</td>\n",
       "      <td>0.431786</td>\n",
       "      <td>0.915940</td>\n",
       "      <td>0.709016</td>\n",
       "      <td>0.890655</td>\n",
       "      <td>0.588886</td>\n",
       "      <td>0.636830</td>\n",
       "      <td>0.342209</td>\n",
       "    </tr>\n",
       "  </tbody>\n",
       "</table>\n",
       "</div>"
      ],
      "text/plain": [
       "        y_1       y_0    W       X_1       X_2       X_3       X_4       X_5  \\\n",
       "0  5.887156  2.785060  1.0  0.605978  0.733369  0.138947  0.312673  0.997243   \n",
       "1  2.232601  5.533515  0.0  0.096894  0.058571  0.962396  0.616557  0.086630   \n",
       "2  0.144419  0.095546  1.0  0.452145  0.201850  0.569305  0.195096  0.583704   \n",
       "3 -2.446425  3.590472  1.0  0.672129  0.643485  0.828014  0.204469  0.617489   \n",
       "4  2.163090  1.365405  0.0  0.442232  0.126318  0.508831  0.431786  0.915940   \n",
       "\n",
       "        X_6       X_7       X_8       X_9      X_10  \n",
       "0  0.128162  0.178993  0.752925  0.662161  0.784310  \n",
       "1  0.561272  0.616525  0.963843  0.574304  0.371161  \n",
       "2  0.476313  0.517814  0.823099  0.732225  0.069056  \n",
       "3  0.617701  0.301069  0.871741  0.589654  0.981770  \n",
       "4  0.709016  0.890655  0.588886  0.636830  0.342209  "
      ]
     },
     "execution_count": 121,
     "metadata": {},
     "output_type": "execute_result"
    }
   ],
   "source": [
    "dataset2.head()"
   ]
  },
  {
   "cell_type": "markdown",
   "metadata": {},
   "source": [
    "#### 1. Гипотезы"
   ]
  },
  {
   "cell_type": "code",
   "execution_count": 122,
   "metadata": {},
   "outputs": [],
   "source": [
    "dataset2['Y'] = dataset2['y_1'] - dataset2['y_0']"
   ]
  },
  {
   "cell_type": "code",
   "execution_count": 123,
   "metadata": {},
   "outputs": [
    {
     "data": {
      "text/html": [
       "<div>\n",
       "<style scoped>\n",
       "    .dataframe tbody tr th:only-of-type {\n",
       "        vertical-align: middle;\n",
       "    }\n",
       "\n",
       "    .dataframe tbody tr th {\n",
       "        vertical-align: top;\n",
       "    }\n",
       "\n",
       "    .dataframe thead th {\n",
       "        text-align: right;\n",
       "    }\n",
       "</style>\n",
       "<table border=\"1\" class=\"dataframe\">\n",
       "  <thead>\n",
       "    <tr style=\"text-align: right;\">\n",
       "      <th></th>\n",
       "      <th>y_1</th>\n",
       "      <th>y_0</th>\n",
       "      <th>W</th>\n",
       "      <th>X_1</th>\n",
       "      <th>X_2</th>\n",
       "      <th>X_3</th>\n",
       "      <th>X_4</th>\n",
       "      <th>X_5</th>\n",
       "      <th>X_6</th>\n",
       "      <th>X_7</th>\n",
       "      <th>X_8</th>\n",
       "      <th>X_9</th>\n",
       "      <th>X_10</th>\n",
       "      <th>Y</th>\n",
       "    </tr>\n",
       "  </thead>\n",
       "  <tbody>\n",
       "    <tr>\n",
       "      <th>0</th>\n",
       "      <td>5.887156</td>\n",
       "      <td>2.785060</td>\n",
       "      <td>1.0</td>\n",
       "      <td>0.605978</td>\n",
       "      <td>0.733369</td>\n",
       "      <td>0.138947</td>\n",
       "      <td>0.312673</td>\n",
       "      <td>0.997243</td>\n",
       "      <td>0.128162</td>\n",
       "      <td>0.178993</td>\n",
       "      <td>0.752925</td>\n",
       "      <td>0.662161</td>\n",
       "      <td>0.784310</td>\n",
       "      <td>3.102097</td>\n",
       "    </tr>\n",
       "    <tr>\n",
       "      <th>1</th>\n",
       "      <td>2.232601</td>\n",
       "      <td>5.533515</td>\n",
       "      <td>0.0</td>\n",
       "      <td>0.096894</td>\n",
       "      <td>0.058571</td>\n",
       "      <td>0.962396</td>\n",
       "      <td>0.616557</td>\n",
       "      <td>0.086630</td>\n",
       "      <td>0.561272</td>\n",
       "      <td>0.616525</td>\n",
       "      <td>0.963843</td>\n",
       "      <td>0.574304</td>\n",
       "      <td>0.371161</td>\n",
       "      <td>-3.300914</td>\n",
       "    </tr>\n",
       "    <tr>\n",
       "      <th>2</th>\n",
       "      <td>0.144419</td>\n",
       "      <td>0.095546</td>\n",
       "      <td>1.0</td>\n",
       "      <td>0.452145</td>\n",
       "      <td>0.201850</td>\n",
       "      <td>0.569305</td>\n",
       "      <td>0.195096</td>\n",
       "      <td>0.583704</td>\n",
       "      <td>0.476313</td>\n",
       "      <td>0.517814</td>\n",
       "      <td>0.823099</td>\n",
       "      <td>0.732225</td>\n",
       "      <td>0.069056</td>\n",
       "      <td>0.048874</td>\n",
       "    </tr>\n",
       "    <tr>\n",
       "      <th>3</th>\n",
       "      <td>-2.446425</td>\n",
       "      <td>3.590472</td>\n",
       "      <td>1.0</td>\n",
       "      <td>0.672129</td>\n",
       "      <td>0.643485</td>\n",
       "      <td>0.828014</td>\n",
       "      <td>0.204469</td>\n",
       "      <td>0.617489</td>\n",
       "      <td>0.617701</td>\n",
       "      <td>0.301069</td>\n",
       "      <td>0.871741</td>\n",
       "      <td>0.589654</td>\n",
       "      <td>0.981770</td>\n",
       "      <td>-6.036897</td>\n",
       "    </tr>\n",
       "    <tr>\n",
       "      <th>4</th>\n",
       "      <td>2.163090</td>\n",
       "      <td>1.365405</td>\n",
       "      <td>0.0</td>\n",
       "      <td>0.442232</td>\n",
       "      <td>0.126318</td>\n",
       "      <td>0.508831</td>\n",
       "      <td>0.431786</td>\n",
       "      <td>0.915940</td>\n",
       "      <td>0.709016</td>\n",
       "      <td>0.890655</td>\n",
       "      <td>0.588886</td>\n",
       "      <td>0.636830</td>\n",
       "      <td>0.342209</td>\n",
       "      <td>0.797684</td>\n",
       "    </tr>\n",
       "  </tbody>\n",
       "</table>\n",
       "</div>"
      ],
      "text/plain": [
       "        y_1       y_0    W       X_1       X_2       X_3       X_4       X_5  \\\n",
       "0  5.887156  2.785060  1.0  0.605978  0.733369  0.138947  0.312673  0.997243   \n",
       "1  2.232601  5.533515  0.0  0.096894  0.058571  0.962396  0.616557  0.086630   \n",
       "2  0.144419  0.095546  1.0  0.452145  0.201850  0.569305  0.195096  0.583704   \n",
       "3 -2.446425  3.590472  1.0  0.672129  0.643485  0.828014  0.204469  0.617489   \n",
       "4  2.163090  1.365405  0.0  0.442232  0.126318  0.508831  0.431786  0.915940   \n",
       "\n",
       "        X_6       X_7       X_8       X_9      X_10         Y  \n",
       "0  0.128162  0.178993  0.752925  0.662161  0.784310  3.102097  \n",
       "1  0.561272  0.616525  0.963843  0.574304  0.371161 -3.300914  \n",
       "2  0.476313  0.517814  0.823099  0.732225  0.069056  0.048874  \n",
       "3  0.617701  0.301069  0.871741  0.589654  0.981770 -6.036897  \n",
       "4  0.709016  0.890655  0.588886  0.636830  0.342209  0.797684  "
      ]
     },
     "execution_count": 123,
     "metadata": {},
     "output_type": "execute_result"
    }
   ],
   "source": [
    "dataset2.head()"
   ]
  },
  {
   "cell_type": "markdown",
   "metadata": {},
   "source": [
    "Проверим гипотезу о равных средних снова через Z тест:"
   ]
  },
  {
   "cell_type": "code",
   "execution_count": 124,
   "metadata": {},
   "outputs": [],
   "source": [
    "Y0 = dataset2[dataset2['W'] == 0]['Y'].array\n",
    "Y1 = dataset2[dataset2['W'] == 1]['Y'].array"
   ]
  },
  {
   "cell_type": "code",
   "execution_count": 125,
   "metadata": {},
   "outputs": [
    {
     "data": {
      "text/plain": [
       "(9.118025905018952, 7.650513264824386e-20)"
      ]
     },
     "execution_count": 125,
     "metadata": {},
     "output_type": "execute_result"
    }
   ],
   "source": [
    "ztest(Y1,Y0)"
   ]
  },
  {
   "cell_type": "markdown",
   "metadata": {},
   "source": [
    "Z тест снова и в этом случае показывает, что treatment зависит от target. Это снова видно отсюда (X_1, X_2 и Y для случаев W = 0 and W = 1):"
   ]
  },
  {
   "cell_type": "code",
   "execution_count": 126,
   "metadata": {},
   "outputs": [
    {
     "data": {
      "text/html": [
       "<div>\n",
       "<style scoped>\n",
       "    .dataframe tbody tr th:only-of-type {\n",
       "        vertical-align: middle;\n",
       "    }\n",
       "\n",
       "    .dataframe tbody tr th {\n",
       "        vertical-align: top;\n",
       "    }\n",
       "\n",
       "    .dataframe thead th {\n",
       "        text-align: right;\n",
       "    }\n",
       "</style>\n",
       "<table border=\"1\" class=\"dataframe\">\n",
       "  <thead>\n",
       "    <tr style=\"text-align: right;\">\n",
       "      <th></th>\n",
       "      <th>y_1</th>\n",
       "      <th>y_0</th>\n",
       "      <th>X_1</th>\n",
       "      <th>X_2</th>\n",
       "      <th>X_3</th>\n",
       "      <th>X_4</th>\n",
       "      <th>X_5</th>\n",
       "      <th>X_6</th>\n",
       "      <th>X_7</th>\n",
       "      <th>X_8</th>\n",
       "      <th>X_9</th>\n",
       "      <th>X_10</th>\n",
       "      <th>Y</th>\n",
       "    </tr>\n",
       "    <tr>\n",
       "      <th>W</th>\n",
       "      <th></th>\n",
       "      <th></th>\n",
       "      <th></th>\n",
       "      <th></th>\n",
       "      <th></th>\n",
       "      <th></th>\n",
       "      <th></th>\n",
       "      <th></th>\n",
       "      <th></th>\n",
       "      <th></th>\n",
       "      <th></th>\n",
       "      <th></th>\n",
       "      <th></th>\n",
       "    </tr>\n",
       "  </thead>\n",
       "  <tbody>\n",
       "    <tr>\n",
       "      <th>0.0</th>\n",
       "      <td>1.878542</td>\n",
       "      <td>0.816187</td>\n",
       "      <td>0.387120</td>\n",
       "      <td>0.400934</td>\n",
       "      <td>0.495181</td>\n",
       "      <td>0.502530</td>\n",
       "      <td>0.497533</td>\n",
       "      <td>0.499039</td>\n",
       "      <td>0.504281</td>\n",
       "      <td>0.503380</td>\n",
       "      <td>0.501267</td>\n",
       "      <td>0.498942</td>\n",
       "      <td>1.062355</td>\n",
       "    </tr>\n",
       "    <tr>\n",
       "      <th>1.0</th>\n",
       "      <td>2.309793</td>\n",
       "      <td>0.692534</td>\n",
       "      <td>0.592249</td>\n",
       "      <td>0.597398</td>\n",
       "      <td>0.501800</td>\n",
       "      <td>0.497781</td>\n",
       "      <td>0.501576</td>\n",
       "      <td>0.494910</td>\n",
       "      <td>0.501227</td>\n",
       "      <td>0.497676</td>\n",
       "      <td>0.503586</td>\n",
       "      <td>0.497798</td>\n",
       "      <td>1.617259</td>\n",
       "    </tr>\n",
       "  </tbody>\n",
       "</table>\n",
       "</div>"
      ],
      "text/plain": [
       "          y_1       y_0       X_1       X_2       X_3       X_4       X_5  \\\n",
       "W                                                                           \n",
       "0.0  1.878542  0.816187  0.387120  0.400934  0.495181  0.502530  0.497533   \n",
       "1.0  2.309793  0.692534  0.592249  0.597398  0.501800  0.497781  0.501576   \n",
       "\n",
       "          X_6       X_7       X_8       X_9      X_10         Y  \n",
       "W                                                                \n",
       "0.0  0.499039  0.504281  0.503380  0.501267  0.498942  1.062355  \n",
       "1.0  0.494910  0.501227  0.497676  0.503586  0.497798  1.617259  "
      ]
     },
     "execution_count": 126,
     "metadata": {},
     "output_type": "execute_result"
    }
   ],
   "source": [
    "dataset2.groupby('W').mean()"
   ]
  },
  {
   "cell_type": "markdown",
   "metadata": {},
   "source": [
    "#### 2. Оценка ATE"
   ]
  },
  {
   "cell_type": "markdown",
   "metadata": {},
   "source": [
    "##### 1.Для начала снова попробуем применить linear regression:"
   ]
  },
  {
   "cell_type": "code",
   "execution_count": null,
   "metadata": {},
   "outputs": [],
   "source": []
  },
  {
   "cell_type": "code",
   "execution_count": 127,
   "metadata": {},
   "outputs": [
    {
     "data": {
      "text/plain": [
       "0.5425071531831982"
      ]
     },
     "execution_count": 127,
     "metadata": {},
     "output_type": "execute_result"
    }
   ],
   "source": [
    "ATE_2LR"
   ]
  },
  {
   "cell_type": "markdown",
   "metadata": {},
   "source": [
    "##### 2. DiD"
   ]
  },
  {
   "cell_type": "code",
   "execution_count": 128,
   "metadata": {},
   "outputs": [
    {
     "data": {
      "text/plain": [
       "0.5549047702971286"
      ]
     },
     "execution_count": 128,
     "metadata": {},
     "output_type": "execute_result"
    }
   ],
   "source": [
    "did = smf.ols(formula='Y ~ W', data=dataset2).fit()\n",
    "did.params[1]"
   ]
  },
  {
   "cell_type": "markdown",
   "metadata": {},
   "source": [
    "##### 3. CUPED"
   ]
  },
  {
   "cell_type": "code",
   "execution_count": 129,
   "metadata": {},
   "outputs": [
    {
     "data": {
      "text/plain": [
       "0.00449360408176727"
      ]
     },
     "execution_count": 129,
     "metadata": {},
     "output_type": "execute_result"
    }
   ],
   "source": [
    "theta = np.cov((dataset2['y_1'], dataset2['y_0'])/np.var(dataset2['y_0']))[0][1]\n",
    "theta"
   ]
  },
  {
   "cell_type": "code",
   "execution_count": 130,
   "metadata": {},
   "outputs": [],
   "source": [
    "t_cuped = dataset2['y_1'] - (dataset2['y_0'] - dataset2['y_0'].mean())*theta"
   ]
  },
  {
   "cell_type": "code",
   "execution_count": 131,
   "metadata": {},
   "outputs": [],
   "source": [
    "modelLR3 = LinearRegression()\n",
    "xLR3 = dataset2.drop(['y_1', 'y_0', 'Y'], axis=1)\n",
    "yLR3 = t_cuped\n",
    "modelLR3.fit(xLR3, yLR3)\n",
    "ATE_3LR = modelLR3.coef_[0]"
   ]
  },
  {
   "cell_type": "code",
   "execution_count": 132,
   "metadata": {},
   "outputs": [
    {
     "data": {
      "text/plain": [
       "0.5481679819724223"
      ]
     },
     "execution_count": 132,
     "metadata": {},
     "output_type": "execute_result"
    }
   ],
   "source": [
    "ATE_3LR"
   ]
  },
  {
   "cell_type": "markdown",
   "metadata": {},
   "source": [
    "#### 3. Выводы "
   ]
  },
  {
   "cell_type": "markdown",
   "metadata": {},
   "source": [
    "Все методы показали примерно одинаковый результат с небольшими отличиями"
   ]
  },
  {
   "cell_type": "markdown",
   "metadata": {},
   "source": [
    "### 3. Построение uplift модели по результатам AB теста."
   ]
  },
  {
   "cell_type": "markdown",
   "metadata": {},
   "source": [
    "Вам даны результаты AB теста для модели конверсии клиента в продукте (conversion). Конверсия может принимать значения 1 или 0, что значит - клиент подключил услугу, либо не подключил соответственно.\n",
    "\n",
    "Задача:\n",
    "1. Оцените ATE по данным.\n",
    "2. Оцените CATE для каждого наблюдения.\n",
    "3. Проставьте рекомендации к воздействию на каждый объект.\n",
    "4. Какая ожидаемая конверсия при оптимальном воздействии?\n",
    "5. Все выводы, предпосылки и методы представляйте в явном виде в ноутбуке.\n",
    "\n",
    "Визуализация результатов также будет приветствоваться.\n",
    "\n",
    "dataset_part3_students.csv"
   ]
  },
  {
   "cell_type": "code",
   "execution_count": 193,
   "metadata": {},
   "outputs": [],
   "source": [
    "dataset3 = pd.read_csv(\"data\\dataset_part3_students.csv\", sep='\\t')"
   ]
  },
  {
   "cell_type": "code",
   "execution_count": 194,
   "metadata": {},
   "outputs": [
    {
     "data": {
      "text/html": [
       "<div>\n",
       "<style scoped>\n",
       "    .dataframe tbody tr th:only-of-type {\n",
       "        vertical-align: middle;\n",
       "    }\n",
       "\n",
       "    .dataframe tbody tr th {\n",
       "        vertical-align: top;\n",
       "    }\n",
       "\n",
       "    .dataframe thead th {\n",
       "        text-align: right;\n",
       "    }\n",
       "</style>\n",
       "<table border=\"1\" class=\"dataframe\">\n",
       "  <thead>\n",
       "    <tr style=\"text-align: right;\">\n",
       "      <th></th>\n",
       "      <th>treatment</th>\n",
       "      <th>X_1</th>\n",
       "      <th>X_2</th>\n",
       "      <th>X_3</th>\n",
       "      <th>X_4</th>\n",
       "      <th>X_5</th>\n",
       "      <th>X_6</th>\n",
       "      <th>X_7</th>\n",
       "      <th>X_8</th>\n",
       "      <th>X_9</th>\n",
       "      <th>...</th>\n",
       "      <th>X_14</th>\n",
       "      <th>X_15</th>\n",
       "      <th>X_16</th>\n",
       "      <th>X_17</th>\n",
       "      <th>X_18</th>\n",
       "      <th>X_19</th>\n",
       "      <th>X_20</th>\n",
       "      <th>X_21</th>\n",
       "      <th>X_22</th>\n",
       "      <th>conversion</th>\n",
       "    </tr>\n",
       "  </thead>\n",
       "  <tbody>\n",
       "    <tr>\n",
       "      <th>0</th>\n",
       "      <td>control</td>\n",
       "      <td>0.034351</td>\n",
       "      <td>0.550725</td>\n",
       "      <td>-1.348524</td>\n",
       "      <td>-0.029591</td>\n",
       "      <td>0.499535</td>\n",
       "      <td>-0.412464</td>\n",
       "      <td>0.933588</td>\n",
       "      <td>-0.522954</td>\n",
       "      <td>-0.029591</td>\n",
       "      <td>...</td>\n",
       "      <td>-0.314573</td>\n",
       "      <td>-0.879456</td>\n",
       "      <td>0.640264</td>\n",
       "      <td>1.165722</td>\n",
       "      <td>0.570495</td>\n",
       "      <td>0.529443</td>\n",
       "      <td>0.227962</td>\n",
       "      <td>1.929914</td>\n",
       "      <td>0.798664</td>\n",
       "      <td>0</td>\n",
       "    </tr>\n",
       "    <tr>\n",
       "      <th>1</th>\n",
       "      <td>control</td>\n",
       "      <td>-1.059404</td>\n",
       "      <td>0.299404</td>\n",
       "      <td>0.220273</td>\n",
       "      <td>-1.569660</td>\n",
       "      <td>1.084204</td>\n",
       "      <td>-2.167118</td>\n",
       "      <td>1.216469</td>\n",
       "      <td>-0.744547</td>\n",
       "      <td>-1.569660</td>\n",
       "      <td>...</td>\n",
       "      <td>0.303664</td>\n",
       "      <td>1.080643</td>\n",
       "      <td>2.646483</td>\n",
       "      <td>-0.329690</td>\n",
       "      <td>1.725636</td>\n",
       "      <td>1.434649</td>\n",
       "      <td>-2.064893</td>\n",
       "      <td>0.188000</td>\n",
       "      <td>-1.134651</td>\n",
       "      <td>0</td>\n",
       "    </tr>\n",
       "    <tr>\n",
       "      <th>2</th>\n",
       "      <td>control</td>\n",
       "      <td>0.051934</td>\n",
       "      <td>2.338729</td>\n",
       "      <td>-0.341017</td>\n",
       "      <td>-1.099362</td>\n",
       "      <td>0.693090</td>\n",
       "      <td>-2.424267</td>\n",
       "      <td>1.572066</td>\n",
       "      <td>-0.212798</td>\n",
       "      <td>-1.099362</td>\n",
       "      <td>...</td>\n",
       "      <td>-0.083721</td>\n",
       "      <td>-1.981712</td>\n",
       "      <td>0.224777</td>\n",
       "      <td>2.038004</td>\n",
       "      <td>2.516398</td>\n",
       "      <td>2.324280</td>\n",
       "      <td>-3.182196</td>\n",
       "      <td>-0.888490</td>\n",
       "      <td>-1.402561</td>\n",
       "      <td>0</td>\n",
       "    </tr>\n",
       "    <tr>\n",
       "      <th>3</th>\n",
       "      <td>treatment</td>\n",
       "      <td>0.667770</td>\n",
       "      <td>0.539316</td>\n",
       "      <td>0.468719</td>\n",
       "      <td>-0.840885</td>\n",
       "      <td>-0.708331</td>\n",
       "      <td>0.126634</td>\n",
       "      <td>1.275854</td>\n",
       "      <td>-0.954919</td>\n",
       "      <td>-0.840885</td>\n",
       "      <td>...</td>\n",
       "      <td>-0.752011</td>\n",
       "      <td>-0.347319</td>\n",
       "      <td>-1.659402</td>\n",
       "      <td>-0.871980</td>\n",
       "      <td>-0.893513</td>\n",
       "      <td>-0.658078</td>\n",
       "      <td>-2.704997</td>\n",
       "      <td>-0.390745</td>\n",
       "      <td>-1.578004</td>\n",
       "      <td>1</td>\n",
       "    </tr>\n",
       "    <tr>\n",
       "      <th>4</th>\n",
       "      <td>control</td>\n",
       "      <td>-1.416158</td>\n",
       "      <td>2.486628</td>\n",
       "      <td>0.496402</td>\n",
       "      <td>-1.174618</td>\n",
       "      <td>2.738267</td>\n",
       "      <td>-4.756755</td>\n",
       "      <td>-0.180918</td>\n",
       "      <td>-1.281432</td>\n",
       "      <td>-1.174618</td>\n",
       "      <td>...</td>\n",
       "      <td>-1.198151</td>\n",
       "      <td>-0.232961</td>\n",
       "      <td>0.948875</td>\n",
       "      <td>1.210523</td>\n",
       "      <td>1.536723</td>\n",
       "      <td>1.548610</td>\n",
       "      <td>-0.926435</td>\n",
       "      <td>0.972459</td>\n",
       "      <td>-0.711251</td>\n",
       "      <td>0</td>\n",
       "    </tr>\n",
       "  </tbody>\n",
       "</table>\n",
       "<p>5 rows × 24 columns</p>\n",
       "</div>"
      ],
      "text/plain": [
       "   treatment       X_1       X_2       X_3       X_4       X_5       X_6  \\\n",
       "0    control  0.034351  0.550725 -1.348524 -0.029591  0.499535 -0.412464   \n",
       "1    control -1.059404  0.299404  0.220273 -1.569660  1.084204 -2.167118   \n",
       "2    control  0.051934  2.338729 -0.341017 -1.099362  0.693090 -2.424267   \n",
       "3  treatment  0.667770  0.539316  0.468719 -0.840885 -0.708331  0.126634   \n",
       "4    control -1.416158  2.486628  0.496402 -1.174618  2.738267 -4.756755   \n",
       "\n",
       "        X_7       X_8       X_9  ...      X_14      X_15      X_16      X_17  \\\n",
       "0  0.933588 -0.522954 -0.029591  ... -0.314573 -0.879456  0.640264  1.165722   \n",
       "1  1.216469 -0.744547 -1.569660  ...  0.303664  1.080643  2.646483 -0.329690   \n",
       "2  1.572066 -0.212798 -1.099362  ... -0.083721 -1.981712  0.224777  2.038004   \n",
       "3  1.275854 -0.954919 -0.840885  ... -0.752011 -0.347319 -1.659402 -0.871980   \n",
       "4 -0.180918 -1.281432 -1.174618  ... -1.198151 -0.232961  0.948875  1.210523   \n",
       "\n",
       "       X_18      X_19      X_20      X_21      X_22  conversion  \n",
       "0  0.570495  0.529443  0.227962  1.929914  0.798664           0  \n",
       "1  1.725636  1.434649 -2.064893  0.188000 -1.134651           0  \n",
       "2  2.516398  2.324280 -3.182196 -0.888490 -1.402561           0  \n",
       "3 -0.893513 -0.658078 -2.704997 -0.390745 -1.578004           1  \n",
       "4  1.536723  1.548610 -0.926435  0.972459 -0.711251           0  \n",
       "\n",
       "[5 rows x 24 columns]"
      ]
     },
     "execution_count": 194,
     "metadata": {},
     "output_type": "execute_result"
    }
   ],
   "source": [
    "dataset3.head()"
   ]
  },
  {
   "cell_type": "code",
   "execution_count": 195,
   "metadata": {},
   "outputs": [
    {
     "data": {
      "text/html": [
       "<div>\n",
       "<style scoped>\n",
       "    .dataframe tbody tr th:only-of-type {\n",
       "        vertical-align: middle;\n",
       "    }\n",
       "\n",
       "    .dataframe tbody tr th {\n",
       "        vertical-align: top;\n",
       "    }\n",
       "\n",
       "    .dataframe thead th {\n",
       "        text-align: right;\n",
       "    }\n",
       "</style>\n",
       "<table border=\"1\" class=\"dataframe\">\n",
       "  <thead>\n",
       "    <tr style=\"text-align: right;\">\n",
       "      <th></th>\n",
       "      <th>treatment</th>\n",
       "      <th>X_1</th>\n",
       "      <th>X_2</th>\n",
       "      <th>X_3</th>\n",
       "      <th>X_4</th>\n",
       "      <th>X_5</th>\n",
       "      <th>X_6</th>\n",
       "      <th>X_7</th>\n",
       "      <th>X_8</th>\n",
       "      <th>X_9</th>\n",
       "      <th>...</th>\n",
       "      <th>X_14</th>\n",
       "      <th>X_15</th>\n",
       "      <th>X_16</th>\n",
       "      <th>X_17</th>\n",
       "      <th>X_18</th>\n",
       "      <th>X_19</th>\n",
       "      <th>X_20</th>\n",
       "      <th>X_21</th>\n",
       "      <th>X_22</th>\n",
       "      <th>conversion</th>\n",
       "    </tr>\n",
       "  </thead>\n",
       "  <tbody>\n",
       "    <tr>\n",
       "      <th>0</th>\n",
       "      <td>0</td>\n",
       "      <td>0.034351</td>\n",
       "      <td>0.550725</td>\n",
       "      <td>-1.348524</td>\n",
       "      <td>-0.029591</td>\n",
       "      <td>0.499535</td>\n",
       "      <td>-0.412464</td>\n",
       "      <td>0.933588</td>\n",
       "      <td>-0.522954</td>\n",
       "      <td>-0.029591</td>\n",
       "      <td>...</td>\n",
       "      <td>-0.314573</td>\n",
       "      <td>-0.879456</td>\n",
       "      <td>0.640264</td>\n",
       "      <td>1.165722</td>\n",
       "      <td>0.570495</td>\n",
       "      <td>0.529443</td>\n",
       "      <td>0.227962</td>\n",
       "      <td>1.929914</td>\n",
       "      <td>0.798664</td>\n",
       "      <td>0</td>\n",
       "    </tr>\n",
       "    <tr>\n",
       "      <th>1</th>\n",
       "      <td>0</td>\n",
       "      <td>-1.059404</td>\n",
       "      <td>0.299404</td>\n",
       "      <td>0.220273</td>\n",
       "      <td>-1.569660</td>\n",
       "      <td>1.084204</td>\n",
       "      <td>-2.167118</td>\n",
       "      <td>1.216469</td>\n",
       "      <td>-0.744547</td>\n",
       "      <td>-1.569660</td>\n",
       "      <td>...</td>\n",
       "      <td>0.303664</td>\n",
       "      <td>1.080643</td>\n",
       "      <td>2.646483</td>\n",
       "      <td>-0.329690</td>\n",
       "      <td>1.725636</td>\n",
       "      <td>1.434649</td>\n",
       "      <td>-2.064893</td>\n",
       "      <td>0.188000</td>\n",
       "      <td>-1.134651</td>\n",
       "      <td>0</td>\n",
       "    </tr>\n",
       "    <tr>\n",
       "      <th>2</th>\n",
       "      <td>0</td>\n",
       "      <td>0.051934</td>\n",
       "      <td>2.338729</td>\n",
       "      <td>-0.341017</td>\n",
       "      <td>-1.099362</td>\n",
       "      <td>0.693090</td>\n",
       "      <td>-2.424267</td>\n",
       "      <td>1.572066</td>\n",
       "      <td>-0.212798</td>\n",
       "      <td>-1.099362</td>\n",
       "      <td>...</td>\n",
       "      <td>-0.083721</td>\n",
       "      <td>-1.981712</td>\n",
       "      <td>0.224777</td>\n",
       "      <td>2.038004</td>\n",
       "      <td>2.516398</td>\n",
       "      <td>2.324280</td>\n",
       "      <td>-3.182196</td>\n",
       "      <td>-0.888490</td>\n",
       "      <td>-1.402561</td>\n",
       "      <td>0</td>\n",
       "    </tr>\n",
       "    <tr>\n",
       "      <th>3</th>\n",
       "      <td>1</td>\n",
       "      <td>0.667770</td>\n",
       "      <td>0.539316</td>\n",
       "      <td>0.468719</td>\n",
       "      <td>-0.840885</td>\n",
       "      <td>-0.708331</td>\n",
       "      <td>0.126634</td>\n",
       "      <td>1.275854</td>\n",
       "      <td>-0.954919</td>\n",
       "      <td>-0.840885</td>\n",
       "      <td>...</td>\n",
       "      <td>-0.752011</td>\n",
       "      <td>-0.347319</td>\n",
       "      <td>-1.659402</td>\n",
       "      <td>-0.871980</td>\n",
       "      <td>-0.893513</td>\n",
       "      <td>-0.658078</td>\n",
       "      <td>-2.704997</td>\n",
       "      <td>-0.390745</td>\n",
       "      <td>-1.578004</td>\n",
       "      <td>1</td>\n",
       "    </tr>\n",
       "    <tr>\n",
       "      <th>4</th>\n",
       "      <td>0</td>\n",
       "      <td>-1.416158</td>\n",
       "      <td>2.486628</td>\n",
       "      <td>0.496402</td>\n",
       "      <td>-1.174618</td>\n",
       "      <td>2.738267</td>\n",
       "      <td>-4.756755</td>\n",
       "      <td>-0.180918</td>\n",
       "      <td>-1.281432</td>\n",
       "      <td>-1.174618</td>\n",
       "      <td>...</td>\n",
       "      <td>-1.198151</td>\n",
       "      <td>-0.232961</td>\n",
       "      <td>0.948875</td>\n",
       "      <td>1.210523</td>\n",
       "      <td>1.536723</td>\n",
       "      <td>1.548610</td>\n",
       "      <td>-0.926435</td>\n",
       "      <td>0.972459</td>\n",
       "      <td>-0.711251</td>\n",
       "      <td>0</td>\n",
       "    </tr>\n",
       "    <tr>\n",
       "      <th>...</th>\n",
       "      <td>...</td>\n",
       "      <td>...</td>\n",
       "      <td>...</td>\n",
       "      <td>...</td>\n",
       "      <td>...</td>\n",
       "      <td>...</td>\n",
       "      <td>...</td>\n",
       "      <td>...</td>\n",
       "      <td>...</td>\n",
       "      <td>...</td>\n",
       "      <td>...</td>\n",
       "      <td>...</td>\n",
       "      <td>...</td>\n",
       "      <td>...</td>\n",
       "      <td>...</td>\n",
       "      <td>...</td>\n",
       "      <td>...</td>\n",
       "      <td>...</td>\n",
       "      <td>...</td>\n",
       "      <td>...</td>\n",
       "      <td>...</td>\n",
       "    </tr>\n",
       "    <tr>\n",
       "      <th>199995</th>\n",
       "      <td>0</td>\n",
       "      <td>-1.309691</td>\n",
       "      <td>2.925832</td>\n",
       "      <td>-0.584101</td>\n",
       "      <td>-1.232931</td>\n",
       "      <td>2.601140</td>\n",
       "      <td>-4.943288</td>\n",
       "      <td>0.416758</td>\n",
       "      <td>-0.083626</td>\n",
       "      <td>-1.232931</td>\n",
       "      <td>...</td>\n",
       "      <td>1.041399</td>\n",
       "      <td>0.975982</td>\n",
       "      <td>0.636279</td>\n",
       "      <td>1.073711</td>\n",
       "      <td>-0.406603</td>\n",
       "      <td>0.027760</td>\n",
       "      <td>-0.478887</td>\n",
       "      <td>1.265746</td>\n",
       "      <td>0.059865</td>\n",
       "      <td>0</td>\n",
       "    </tr>\n",
       "    <tr>\n",
       "      <th>199996</th>\n",
       "      <td>0</td>\n",
       "      <td>-1.131361</td>\n",
       "      <td>1.562317</td>\n",
       "      <td>1.265630</td>\n",
       "      <td>-1.361879</td>\n",
       "      <td>1.169695</td>\n",
       "      <td>-3.247293</td>\n",
       "      <td>1.253718</td>\n",
       "      <td>-1.968727</td>\n",
       "      <td>-1.361879</td>\n",
       "      <td>...</td>\n",
       "      <td>-0.485884</td>\n",
       "      <td>0.674360</td>\n",
       "      <td>0.892121</td>\n",
       "      <td>0.893261</td>\n",
       "      <td>0.182528</td>\n",
       "      <td>0.338611</td>\n",
       "      <td>1.006028</td>\n",
       "      <td>-1.943045</td>\n",
       "      <td>-0.145377</td>\n",
       "      <td>0</td>\n",
       "    </tr>\n",
       "    <tr>\n",
       "      <th>199997</th>\n",
       "      <td>0</td>\n",
       "      <td>0.442433</td>\n",
       "      <td>2.202153</td>\n",
       "      <td>-0.380019</td>\n",
       "      <td>-0.474935</td>\n",
       "      <td>0.766306</td>\n",
       "      <td>-1.722354</td>\n",
       "      <td>0.751083</td>\n",
       "      <td>0.595800</td>\n",
       "      <td>-0.474935</td>\n",
       "      <td>...</td>\n",
       "      <td>1.098074</td>\n",
       "      <td>0.299918</td>\n",
       "      <td>0.718669</td>\n",
       "      <td>1.031289</td>\n",
       "      <td>0.398560</td>\n",
       "      <td>0.591750</td>\n",
       "      <td>1.620529</td>\n",
       "      <td>-1.081292</td>\n",
       "      <td>0.995816</td>\n",
       "      <td>0</td>\n",
       "    </tr>\n",
       "    <tr>\n",
       "      <th>199998</th>\n",
       "      <td>1</td>\n",
       "      <td>-0.084879</td>\n",
       "      <td>0.423688</td>\n",
       "      <td>0.389931</td>\n",
       "      <td>-1.996510</td>\n",
       "      <td>-0.123098</td>\n",
       "      <td>-1.103408</td>\n",
       "      <td>2.207197</td>\n",
       "      <td>0.402468</td>\n",
       "      <td>-1.996510</td>\n",
       "      <td>...</td>\n",
       "      <td>-0.511203</td>\n",
       "      <td>-0.150816</td>\n",
       "      <td>-0.256026</td>\n",
       "      <td>2.231563</td>\n",
       "      <td>0.848577</td>\n",
       "      <td>0.739235</td>\n",
       "      <td>1.656343</td>\n",
       "      <td>0.436962</td>\n",
       "      <td>0.622010</td>\n",
       "      <td>0</td>\n",
       "    </tr>\n",
       "    <tr>\n",
       "      <th>199999</th>\n",
       "      <td>0</td>\n",
       "      <td>0.105915</td>\n",
       "      <td>-0.602186</td>\n",
       "      <td>-1.358102</td>\n",
       "      <td>-1.254886</td>\n",
       "      <td>-0.087760</td>\n",
       "      <td>0.278812</td>\n",
       "      <td>1.719685</td>\n",
       "      <td>-0.027311</td>\n",
       "      <td>-1.254886</td>\n",
       "      <td>...</td>\n",
       "      <td>-0.994671</td>\n",
       "      <td>-1.538281</td>\n",
       "      <td>1.402783</td>\n",
       "      <td>0.555712</td>\n",
       "      <td>0.629730</td>\n",
       "      <td>0.436687</td>\n",
       "      <td>2.087262</td>\n",
       "      <td>0.136364</td>\n",
       "      <td>1.724350</td>\n",
       "      <td>0</td>\n",
       "    </tr>\n",
       "  </tbody>\n",
       "</table>\n",
       "<p>200000 rows × 24 columns</p>\n",
       "</div>"
      ],
      "text/plain": [
       "        treatment       X_1       X_2       X_3       X_4       X_5       X_6  \\\n",
       "0               0  0.034351  0.550725 -1.348524 -0.029591  0.499535 -0.412464   \n",
       "1               0 -1.059404  0.299404  0.220273 -1.569660  1.084204 -2.167118   \n",
       "2               0  0.051934  2.338729 -0.341017 -1.099362  0.693090 -2.424267   \n",
       "3               1  0.667770  0.539316  0.468719 -0.840885 -0.708331  0.126634   \n",
       "4               0 -1.416158  2.486628  0.496402 -1.174618  2.738267 -4.756755   \n",
       "...           ...       ...       ...       ...       ...       ...       ...   \n",
       "199995          0 -1.309691  2.925832 -0.584101 -1.232931  2.601140 -4.943288   \n",
       "199996          0 -1.131361  1.562317  1.265630 -1.361879  1.169695 -3.247293   \n",
       "199997          0  0.442433  2.202153 -0.380019 -0.474935  0.766306 -1.722354   \n",
       "199998          1 -0.084879  0.423688  0.389931 -1.996510 -0.123098 -1.103408   \n",
       "199999          0  0.105915 -0.602186 -1.358102 -1.254886 -0.087760  0.278812   \n",
       "\n",
       "             X_7       X_8       X_9  ...      X_14      X_15      X_16  \\\n",
       "0       0.933588 -0.522954 -0.029591  ... -0.314573 -0.879456  0.640264   \n",
       "1       1.216469 -0.744547 -1.569660  ...  0.303664  1.080643  2.646483   \n",
       "2       1.572066 -0.212798 -1.099362  ... -0.083721 -1.981712  0.224777   \n",
       "3       1.275854 -0.954919 -0.840885  ... -0.752011 -0.347319 -1.659402   \n",
       "4      -0.180918 -1.281432 -1.174618  ... -1.198151 -0.232961  0.948875   \n",
       "...          ...       ...       ...  ...       ...       ...       ...   \n",
       "199995  0.416758 -0.083626 -1.232931  ...  1.041399  0.975982  0.636279   \n",
       "199996  1.253718 -1.968727 -1.361879  ... -0.485884  0.674360  0.892121   \n",
       "199997  0.751083  0.595800 -0.474935  ...  1.098074  0.299918  0.718669   \n",
       "199998  2.207197  0.402468 -1.996510  ... -0.511203 -0.150816 -0.256026   \n",
       "199999  1.719685 -0.027311 -1.254886  ... -0.994671 -1.538281  1.402783   \n",
       "\n",
       "            X_17      X_18      X_19      X_20      X_21      X_22  conversion  \n",
       "0       1.165722  0.570495  0.529443  0.227962  1.929914  0.798664           0  \n",
       "1      -0.329690  1.725636  1.434649 -2.064893  0.188000 -1.134651           0  \n",
       "2       2.038004  2.516398  2.324280 -3.182196 -0.888490 -1.402561           0  \n",
       "3      -0.871980 -0.893513 -0.658078 -2.704997 -0.390745 -1.578004           1  \n",
       "4       1.210523  1.536723  1.548610 -0.926435  0.972459 -0.711251           0  \n",
       "...          ...       ...       ...       ...       ...       ...         ...  \n",
       "199995  1.073711 -0.406603  0.027760 -0.478887  1.265746  0.059865           0  \n",
       "199996  0.893261  0.182528  0.338611  1.006028 -1.943045 -0.145377           0  \n",
       "199997  1.031289  0.398560  0.591750  1.620529 -1.081292  0.995816           0  \n",
       "199998  2.231563  0.848577  0.739235  1.656343  0.436962  0.622010           0  \n",
       "199999  0.555712  0.629730  0.436687  2.087262  0.136364  1.724350           0  \n",
       "\n",
       "[200000 rows x 24 columns]"
      ]
     },
     "execution_count": 195,
     "metadata": {},
     "output_type": "execute_result"
    }
   ],
   "source": [
    "transform_dict = {'control': 0, 'treatment': 1}\n",
    "dataset3['treatment'] = dataset3['treatment'].transform(lambda x: transform_dict.get(x))\n",
    "dataset3"
   ]
  },
  {
   "cell_type": "markdown",
   "metadata": {},
   "source": [
    "#### 1. Оценка ATE"
   ]
  },
  {
   "cell_type": "code",
   "execution_count": 255,
   "metadata": {},
   "outputs": [
    {
     "name": "stdout",
     "output_type": "stream",
     "text": [
      "0.06024388343541732\n"
     ]
    }
   ],
   "source": [
    "model_up = LinearRegression()\n",
    "x_up = dataset3.drop('conversion', axis=1)\n",
    "y_up = dataset3['conversion']\n",
    "model_up.fit(x_up, y_up)\n",
    "ATE_up = model_up.coef_[0]\n",
    "print(ATE_up)"
   ]
  },
  {
   "cell_type": "markdown",
   "metadata": {},
   "source": [
    "#### 2. CATE"
   ]
  },
  {
   "cell_type": "markdown",
   "metadata": {},
   "source": [
    "#### S-learner"
   ]
  },
  {
   "cell_type": "markdown",
   "metadata": {},
   "source": [
    "1. Строим 1 модуль на всех данные\n",
    "2. Делаем предикт, если бы для всех данных W был бы 0, и второй как будто бы W для всех 1\n",
    "3. CATE вычисляем как разность векторов с 1 и 0"
   ]
  },
  {
   "cell_type": "code",
   "execution_count": 169,
   "metadata": {},
   "outputs": [],
   "source": [
    "from sklearn.ensemble import RandomForestClassifier"
   ]
  },
  {
   "cell_type": "code",
   "execution_count": 214,
   "metadata": {},
   "outputs": [],
   "source": [
    "clf = RandomForestClassifier(max_depth=7)\n",
    "clf.fit(xLR_3, yLR_3)\n",
    "nuF_w0 = clf.predict_proba(x_w0)[:, 0]\n",
    "nuF_w1 = clf.predict_proba(x_w1)[:, 0]"
   ]
  },
  {
   "cell_type": "code",
   "execution_count": 226,
   "metadata": {},
   "outputs": [
    {
     "name": "stdout",
     "output_type": "stream",
     "text": [
      "[0.93259929 0.94402752 0.95040757 ... 0.95432838 0.94966312 0.94866374]\n",
      "[0.93384363 0.93868517 0.94555569 ... 0.96209385 0.95359431 0.95270346]\n"
     ]
    }
   ],
   "source": [
    "print(nuF_w0)\n",
    "print(nuF_w1)"
   ]
  },
  {
   "cell_type": "code",
   "execution_count": 223,
   "metadata": {},
   "outputs": [],
   "source": [
    "CATE_S = nuF_w1 - nuF_w0"
   ]
  },
  {
   "cell_type": "markdown",
   "metadata": {},
   "source": [
    "Для примера можно привести максимальное воздействие на объект:"
   ]
  },
  {
   "cell_type": "code",
   "execution_count": 224,
   "metadata": {},
   "outputs": [
    {
     "data": {
      "text/plain": [
       "0.34119836582060564"
      ]
     },
     "execution_count": 224,
     "metadata": {},
     "output_type": "execute_result"
    }
   ],
   "source": [
    "CATE_S.max()"
   ]
  },
  {
   "cell_type": "code",
   "execution_count": 229,
   "metadata": {},
   "outputs": [
    {
     "data": {
      "text/plain": [
       "-0.03404859747111655"
      ]
     },
     "execution_count": 229,
     "metadata": {},
     "output_type": "execute_result"
    }
   ],
   "source": [
    "CATE_S_mean = nuF_w1.mean() - nuF_w0.mean()\n",
    "CATE_S_mean"
   ]
  },
  {
   "cell_type": "markdown",
   "metadata": {},
   "source": [
    "##### T-learner:"
   ]
  },
  {
   "cell_type": "markdown",
   "metadata": {},
   "source": [
    "1. Берём все данные и строим по ним 2 модели: одну для treatment = 0 и другую для treatment = 1\n",
    "2. Берём полный сет данных (уже с 0 и 1) и подаём на предикт в обе модели\n",
    "3. CATE вычисляем как разность векторов с 1 и 0"
   ]
  },
  {
   "cell_type": "code",
   "execution_count": 246,
   "metadata": {},
   "outputs": [],
   "source": [
    "data_for_w0 = dataset3[dataset3['treatment'] == 0]\n",
    "data_for_w1 = dataset3[dataset3['treatment'] == 1]\n",
    "x_for_w0 = data_for_w0.drop(['treatment', 'conversion'], axis=1)\n",
    "x_for_w1 = data_for_w1.drop(['treatment', 'conversion'], axis=1)\n",
    "y_for_w0 = data_for_w0['conversion']\n",
    "y_for_w1 = data_for_w1['conversion']"
   ]
  },
  {
   "cell_type": "code",
   "execution_count": 247,
   "metadata": {},
   "outputs": [
    {
     "data": {
      "text/plain": [
       "RandomForestClassifier(max_depth=7)"
      ]
     },
     "execution_count": 247,
     "metadata": {},
     "output_type": "execute_result"
    }
   ],
   "source": [
    "m_for_w0 = RandomForestClassifier(max_depth=7)\n",
    "m_for_w1 = RandomForestClassifier(max_depth=7)\n",
    "m_for_w0.fit(x_for_w0, y_for_w0)\n",
    "m_for_w1.fit(x_for_w1, y_for_w1)"
   ]
  },
  {
   "cell_type": "markdown",
   "metadata": {},
   "source": [
    "Теперь возьмём данные для теста:"
   ]
  },
  {
   "cell_type": "code",
   "execution_count": 248,
   "metadata": {},
   "outputs": [],
   "source": [
    "x_test = dataset3.drop(['treatment', 'conversion'], axis=1)"
   ]
  },
  {
   "cell_type": "code",
   "execution_count": 249,
   "metadata": {},
   "outputs": [],
   "source": [
    "nuT_w0 = m_for_w0.predict_proba(x_test)[:, 0]\n",
    "nuT_w1 = m_for_w1.predict_proba(x_test)[:, 0]"
   ]
  },
  {
   "cell_type": "code",
   "execution_count": 250,
   "metadata": {},
   "outputs": [
    {
     "name": "stdout",
     "output_type": "stream",
     "text": [
      "[0.93938078 0.9316886  0.9599331  ... 0.95709822 0.95820076 0.95192153]\n",
      "[0.93137567 0.92857329 0.9301306  ... 0.98377249 0.96110992 0.96106831]\n"
     ]
    }
   ],
   "source": [
    "print(nuT_w0)\n",
    "print(nuT_w1)"
   ]
  },
  {
   "cell_type": "code",
   "execution_count": 251,
   "metadata": {},
   "outputs": [],
   "source": [
    "CATE_T = nuT_w1 - nuT_w0"
   ]
  },
  {
   "cell_type": "code",
   "execution_count": 252,
   "metadata": {},
   "outputs": [],
   "source": [
    "CATE_T_mean = nuT_w1.mean() - nuT_w0.mean()"
   ]
  },
  {
   "cell_type": "code",
   "execution_count": 256,
   "metadata": {},
   "outputs": [
    {
     "data": {
      "text/plain": [
       "array([-0.00800511, -0.00311531, -0.0298025 , ...,  0.02667428,\n",
       "        0.00290916,  0.00914678])"
      ]
     },
     "execution_count": 256,
     "metadata": {},
     "output_type": "execute_result"
    }
   ],
   "source": [
    "CATE_T"
   ]
  },
  {
   "cell_type": "code",
   "execution_count": 253,
   "metadata": {},
   "outputs": [
    {
     "data": {
      "text/plain": [
       "-0.05947475924125878"
      ]
     },
     "execution_count": 253,
     "metadata": {},
     "output_type": "execute_result"
    }
   ],
   "source": [
    "CATE_T_mean"
   ]
  },
  {
   "cell_type": "markdown",
   "metadata": {},
   "source": [
    "#### 3. Простановка рекомендаций"
   ]
  },
  {
   "cell_type": "markdown",
   "metadata": {},
   "source": [
    "Будем считать, что recommendation = 1 (рекомендуем), если CATE не отрицательно && conversion != 1 (потому что таким объектам уже нет смысла что-то рекомендовать) и recommendation = 0 в противном случае:"
   ]
  },
  {
   "cell_type": "code",
   "execution_count": 267,
   "metadata": {},
   "outputs": [],
   "source": [
    "dataset3['CATE'] = CATE_T\n",
    "inversed_conversion = dataset3['conversion'].apply(lambda x: 1 if x == 0 else 0)\n",
    "#Здесь следующим шагом делаю так, чтобы лямбда ниже выдавала верные рекомендации\n",
    "dataset3['recommendation'] = dataset3['CATE'] * inversed_conversion\n",
    "dataset3['recommendation'] = dataset3['recommendation'].apply(lambda x: 0 if x <= 0 else 1)"
   ]
  },
  {
   "cell_type": "code",
   "execution_count": 268,
   "metadata": {},
   "outputs": [
    {
     "data": {
      "text/html": [
       "<div>\n",
       "<style scoped>\n",
       "    .dataframe tbody tr th:only-of-type {\n",
       "        vertical-align: middle;\n",
       "    }\n",
       "\n",
       "    .dataframe tbody tr th {\n",
       "        vertical-align: top;\n",
       "    }\n",
       "\n",
       "    .dataframe thead th {\n",
       "        text-align: right;\n",
       "    }\n",
       "</style>\n",
       "<table border=\"1\" class=\"dataframe\">\n",
       "  <thead>\n",
       "    <tr style=\"text-align: right;\">\n",
       "      <th></th>\n",
       "      <th>treatment</th>\n",
       "      <th>X_1</th>\n",
       "      <th>X_2</th>\n",
       "      <th>X_3</th>\n",
       "      <th>X_4</th>\n",
       "      <th>X_5</th>\n",
       "      <th>X_6</th>\n",
       "      <th>X_7</th>\n",
       "      <th>X_8</th>\n",
       "      <th>X_9</th>\n",
       "      <th>...</th>\n",
       "      <th>X_16</th>\n",
       "      <th>X_17</th>\n",
       "      <th>X_18</th>\n",
       "      <th>X_19</th>\n",
       "      <th>X_20</th>\n",
       "      <th>X_21</th>\n",
       "      <th>X_22</th>\n",
       "      <th>conversion</th>\n",
       "      <th>CATE</th>\n",
       "      <th>recommendation</th>\n",
       "    </tr>\n",
       "  </thead>\n",
       "  <tbody>\n",
       "    <tr>\n",
       "      <th>0</th>\n",
       "      <td>0</td>\n",
       "      <td>0.034351</td>\n",
       "      <td>0.550725</td>\n",
       "      <td>-1.348524</td>\n",
       "      <td>-0.029591</td>\n",
       "      <td>0.499535</td>\n",
       "      <td>-0.412464</td>\n",
       "      <td>0.933588</td>\n",
       "      <td>-0.522954</td>\n",
       "      <td>-0.029591</td>\n",
       "      <td>...</td>\n",
       "      <td>0.640264</td>\n",
       "      <td>1.165722</td>\n",
       "      <td>0.570495</td>\n",
       "      <td>0.529443</td>\n",
       "      <td>0.227962</td>\n",
       "      <td>1.929914</td>\n",
       "      <td>0.798664</td>\n",
       "      <td>0</td>\n",
       "      <td>-0.008005</td>\n",
       "      <td>0</td>\n",
       "    </tr>\n",
       "    <tr>\n",
       "      <th>1</th>\n",
       "      <td>0</td>\n",
       "      <td>-1.059404</td>\n",
       "      <td>0.299404</td>\n",
       "      <td>0.220273</td>\n",
       "      <td>-1.569660</td>\n",
       "      <td>1.084204</td>\n",
       "      <td>-2.167118</td>\n",
       "      <td>1.216469</td>\n",
       "      <td>-0.744547</td>\n",
       "      <td>-1.569660</td>\n",
       "      <td>...</td>\n",
       "      <td>2.646483</td>\n",
       "      <td>-0.329690</td>\n",
       "      <td>1.725636</td>\n",
       "      <td>1.434649</td>\n",
       "      <td>-2.064893</td>\n",
       "      <td>0.188000</td>\n",
       "      <td>-1.134651</td>\n",
       "      <td>0</td>\n",
       "      <td>-0.003115</td>\n",
       "      <td>0</td>\n",
       "    </tr>\n",
       "    <tr>\n",
       "      <th>2</th>\n",
       "      <td>0</td>\n",
       "      <td>0.051934</td>\n",
       "      <td>2.338729</td>\n",
       "      <td>-0.341017</td>\n",
       "      <td>-1.099362</td>\n",
       "      <td>0.693090</td>\n",
       "      <td>-2.424267</td>\n",
       "      <td>1.572066</td>\n",
       "      <td>-0.212798</td>\n",
       "      <td>-1.099362</td>\n",
       "      <td>...</td>\n",
       "      <td>0.224777</td>\n",
       "      <td>2.038004</td>\n",
       "      <td>2.516398</td>\n",
       "      <td>2.324280</td>\n",
       "      <td>-3.182196</td>\n",
       "      <td>-0.888490</td>\n",
       "      <td>-1.402561</td>\n",
       "      <td>0</td>\n",
       "      <td>-0.029802</td>\n",
       "      <td>0</td>\n",
       "    </tr>\n",
       "    <tr>\n",
       "      <th>3</th>\n",
       "      <td>1</td>\n",
       "      <td>0.667770</td>\n",
       "      <td>0.539316</td>\n",
       "      <td>0.468719</td>\n",
       "      <td>-0.840885</td>\n",
       "      <td>-0.708331</td>\n",
       "      <td>0.126634</td>\n",
       "      <td>1.275854</td>\n",
       "      <td>-0.954919</td>\n",
       "      <td>-0.840885</td>\n",
       "      <td>...</td>\n",
       "      <td>-1.659402</td>\n",
       "      <td>-0.871980</td>\n",
       "      <td>-0.893513</td>\n",
       "      <td>-0.658078</td>\n",
       "      <td>-2.704997</td>\n",
       "      <td>-0.390745</td>\n",
       "      <td>-1.578004</td>\n",
       "      <td>1</td>\n",
       "      <td>-0.770145</td>\n",
       "      <td>0</td>\n",
       "    </tr>\n",
       "    <tr>\n",
       "      <th>4</th>\n",
       "      <td>0</td>\n",
       "      <td>-1.416158</td>\n",
       "      <td>2.486628</td>\n",
       "      <td>0.496402</td>\n",
       "      <td>-1.174618</td>\n",
       "      <td>2.738267</td>\n",
       "      <td>-4.756755</td>\n",
       "      <td>-0.180918</td>\n",
       "      <td>-1.281432</td>\n",
       "      <td>-1.174618</td>\n",
       "      <td>...</td>\n",
       "      <td>0.948875</td>\n",
       "      <td>1.210523</td>\n",
       "      <td>1.536723</td>\n",
       "      <td>1.548610</td>\n",
       "      <td>-0.926435</td>\n",
       "      <td>0.972459</td>\n",
       "      <td>-0.711251</td>\n",
       "      <td>0</td>\n",
       "      <td>-0.022194</td>\n",
       "      <td>0</td>\n",
       "    </tr>\n",
       "    <tr>\n",
       "      <th>...</th>\n",
       "      <td>...</td>\n",
       "      <td>...</td>\n",
       "      <td>...</td>\n",
       "      <td>...</td>\n",
       "      <td>...</td>\n",
       "      <td>...</td>\n",
       "      <td>...</td>\n",
       "      <td>...</td>\n",
       "      <td>...</td>\n",
       "      <td>...</td>\n",
       "      <td>...</td>\n",
       "      <td>...</td>\n",
       "      <td>...</td>\n",
       "      <td>...</td>\n",
       "      <td>...</td>\n",
       "      <td>...</td>\n",
       "      <td>...</td>\n",
       "      <td>...</td>\n",
       "      <td>...</td>\n",
       "      <td>...</td>\n",
       "      <td>...</td>\n",
       "    </tr>\n",
       "    <tr>\n",
       "      <th>199995</th>\n",
       "      <td>0</td>\n",
       "      <td>-1.309691</td>\n",
       "      <td>2.925832</td>\n",
       "      <td>-0.584101</td>\n",
       "      <td>-1.232931</td>\n",
       "      <td>2.601140</td>\n",
       "      <td>-4.943288</td>\n",
       "      <td>0.416758</td>\n",
       "      <td>-0.083626</td>\n",
       "      <td>-1.232931</td>\n",
       "      <td>...</td>\n",
       "      <td>0.636279</td>\n",
       "      <td>1.073711</td>\n",
       "      <td>-0.406603</td>\n",
       "      <td>0.027760</td>\n",
       "      <td>-0.478887</td>\n",
       "      <td>1.265746</td>\n",
       "      <td>0.059865</td>\n",
       "      <td>0</td>\n",
       "      <td>-0.054218</td>\n",
       "      <td>0</td>\n",
       "    </tr>\n",
       "    <tr>\n",
       "      <th>199996</th>\n",
       "      <td>0</td>\n",
       "      <td>-1.131361</td>\n",
       "      <td>1.562317</td>\n",
       "      <td>1.265630</td>\n",
       "      <td>-1.361879</td>\n",
       "      <td>1.169695</td>\n",
       "      <td>-3.247293</td>\n",
       "      <td>1.253718</td>\n",
       "      <td>-1.968727</td>\n",
       "      <td>-1.361879</td>\n",
       "      <td>...</td>\n",
       "      <td>0.892121</td>\n",
       "      <td>0.893261</td>\n",
       "      <td>0.182528</td>\n",
       "      <td>0.338611</td>\n",
       "      <td>1.006028</td>\n",
       "      <td>-1.943045</td>\n",
       "      <td>-0.145377</td>\n",
       "      <td>0</td>\n",
       "      <td>0.016102</td>\n",
       "      <td>1</td>\n",
       "    </tr>\n",
       "    <tr>\n",
       "      <th>199997</th>\n",
       "      <td>0</td>\n",
       "      <td>0.442433</td>\n",
       "      <td>2.202153</td>\n",
       "      <td>-0.380019</td>\n",
       "      <td>-0.474935</td>\n",
       "      <td>0.766306</td>\n",
       "      <td>-1.722354</td>\n",
       "      <td>0.751083</td>\n",
       "      <td>0.595800</td>\n",
       "      <td>-0.474935</td>\n",
       "      <td>...</td>\n",
       "      <td>0.718669</td>\n",
       "      <td>1.031289</td>\n",
       "      <td>0.398560</td>\n",
       "      <td>0.591750</td>\n",
       "      <td>1.620529</td>\n",
       "      <td>-1.081292</td>\n",
       "      <td>0.995816</td>\n",
       "      <td>0</td>\n",
       "      <td>0.026674</td>\n",
       "      <td>1</td>\n",
       "    </tr>\n",
       "    <tr>\n",
       "      <th>199998</th>\n",
       "      <td>1</td>\n",
       "      <td>-0.084879</td>\n",
       "      <td>0.423688</td>\n",
       "      <td>0.389931</td>\n",
       "      <td>-1.996510</td>\n",
       "      <td>-0.123098</td>\n",
       "      <td>-1.103408</td>\n",
       "      <td>2.207197</td>\n",
       "      <td>0.402468</td>\n",
       "      <td>-1.996510</td>\n",
       "      <td>...</td>\n",
       "      <td>-0.256026</td>\n",
       "      <td>2.231563</td>\n",
       "      <td>0.848577</td>\n",
       "      <td>0.739235</td>\n",
       "      <td>1.656343</td>\n",
       "      <td>0.436962</td>\n",
       "      <td>0.622010</td>\n",
       "      <td>0</td>\n",
       "      <td>0.002909</td>\n",
       "      <td>1</td>\n",
       "    </tr>\n",
       "    <tr>\n",
       "      <th>199999</th>\n",
       "      <td>0</td>\n",
       "      <td>0.105915</td>\n",
       "      <td>-0.602186</td>\n",
       "      <td>-1.358102</td>\n",
       "      <td>-1.254886</td>\n",
       "      <td>-0.087760</td>\n",
       "      <td>0.278812</td>\n",
       "      <td>1.719685</td>\n",
       "      <td>-0.027311</td>\n",
       "      <td>-1.254886</td>\n",
       "      <td>...</td>\n",
       "      <td>1.402783</td>\n",
       "      <td>0.555712</td>\n",
       "      <td>0.629730</td>\n",
       "      <td>0.436687</td>\n",
       "      <td>2.087262</td>\n",
       "      <td>0.136364</td>\n",
       "      <td>1.724350</td>\n",
       "      <td>0</td>\n",
       "      <td>0.009147</td>\n",
       "      <td>1</td>\n",
       "    </tr>\n",
       "  </tbody>\n",
       "</table>\n",
       "<p>200000 rows × 26 columns</p>\n",
       "</div>"
      ],
      "text/plain": [
       "        treatment       X_1       X_2       X_3       X_4       X_5       X_6  \\\n",
       "0               0  0.034351  0.550725 -1.348524 -0.029591  0.499535 -0.412464   \n",
       "1               0 -1.059404  0.299404  0.220273 -1.569660  1.084204 -2.167118   \n",
       "2               0  0.051934  2.338729 -0.341017 -1.099362  0.693090 -2.424267   \n",
       "3               1  0.667770  0.539316  0.468719 -0.840885 -0.708331  0.126634   \n",
       "4               0 -1.416158  2.486628  0.496402 -1.174618  2.738267 -4.756755   \n",
       "...           ...       ...       ...       ...       ...       ...       ...   \n",
       "199995          0 -1.309691  2.925832 -0.584101 -1.232931  2.601140 -4.943288   \n",
       "199996          0 -1.131361  1.562317  1.265630 -1.361879  1.169695 -3.247293   \n",
       "199997          0  0.442433  2.202153 -0.380019 -0.474935  0.766306 -1.722354   \n",
       "199998          1 -0.084879  0.423688  0.389931 -1.996510 -0.123098 -1.103408   \n",
       "199999          0  0.105915 -0.602186 -1.358102 -1.254886 -0.087760  0.278812   \n",
       "\n",
       "             X_7       X_8       X_9  ...      X_16      X_17      X_18  \\\n",
       "0       0.933588 -0.522954 -0.029591  ...  0.640264  1.165722  0.570495   \n",
       "1       1.216469 -0.744547 -1.569660  ...  2.646483 -0.329690  1.725636   \n",
       "2       1.572066 -0.212798 -1.099362  ...  0.224777  2.038004  2.516398   \n",
       "3       1.275854 -0.954919 -0.840885  ... -1.659402 -0.871980 -0.893513   \n",
       "4      -0.180918 -1.281432 -1.174618  ...  0.948875  1.210523  1.536723   \n",
       "...          ...       ...       ...  ...       ...       ...       ...   \n",
       "199995  0.416758 -0.083626 -1.232931  ...  0.636279  1.073711 -0.406603   \n",
       "199996  1.253718 -1.968727 -1.361879  ...  0.892121  0.893261  0.182528   \n",
       "199997  0.751083  0.595800 -0.474935  ...  0.718669  1.031289  0.398560   \n",
       "199998  2.207197  0.402468 -1.996510  ... -0.256026  2.231563  0.848577   \n",
       "199999  1.719685 -0.027311 -1.254886  ...  1.402783  0.555712  0.629730   \n",
       "\n",
       "            X_19      X_20      X_21      X_22  conversion      CATE  \\\n",
       "0       0.529443  0.227962  1.929914  0.798664           0 -0.008005   \n",
       "1       1.434649 -2.064893  0.188000 -1.134651           0 -0.003115   \n",
       "2       2.324280 -3.182196 -0.888490 -1.402561           0 -0.029802   \n",
       "3      -0.658078 -2.704997 -0.390745 -1.578004           1 -0.770145   \n",
       "4       1.548610 -0.926435  0.972459 -0.711251           0 -0.022194   \n",
       "...          ...       ...       ...       ...         ...       ...   \n",
       "199995  0.027760 -0.478887  1.265746  0.059865           0 -0.054218   \n",
       "199996  0.338611  1.006028 -1.943045 -0.145377           0  0.016102   \n",
       "199997  0.591750  1.620529 -1.081292  0.995816           0  0.026674   \n",
       "199998  0.739235  1.656343  0.436962  0.622010           0  0.002909   \n",
       "199999  0.436687  2.087262  0.136364  1.724350           0  0.009147   \n",
       "\n",
       "        recommendation  \n",
       "0                    0  \n",
       "1                    0  \n",
       "2                    0  \n",
       "3                    0  \n",
       "4                    0  \n",
       "...                ...  \n",
       "199995               0  \n",
       "199996               1  \n",
       "199997               1  \n",
       "199998               1  \n",
       "199999               1  \n",
       "\n",
       "[200000 rows x 26 columns]"
      ]
     },
     "execution_count": 268,
     "metadata": {},
     "output_type": "execute_result"
    }
   ],
   "source": [
    "dataset3"
   ]
  },
  {
   "cell_type": "markdown",
   "metadata": {},
   "source": [
    "#### 4. Ожидаемая конверсия"
   ]
  },
  {
   "cell_type": "markdown",
   "metadata": {},
   "source": [
    "Если рассматривать конверсию в данном случае как число объектов, на которые мы воздействовали, то это число нужно отнести к количеству 0 в графе conversion до воздействия чтобы получить процент \"обработанных\" объектов:"
   ]
  },
  {
   "cell_type": "code",
   "execution_count": 276,
   "metadata": {},
   "outputs": [],
   "source": [
    "numerator = dataset3['recommendation'].value_counts()[1]\n",
    "denom = dataset3['conversion'].value_counts()[0]"
   ]
  },
  {
   "cell_type": "code",
   "execution_count": 278,
   "metadata": {},
   "outputs": [
    {
     "name": "stdout",
     "output_type": "stream",
     "text": [
      "29.372008051330184\n"
     ]
    }
   ],
   "source": [
    "conversion_level = numerator/denom * 100\n",
    "print(conversion_level)"
   ]
  }
 ],
 "metadata": {
  "kernelspec": {
   "display_name": "Python 3",
   "language": "python",
   "name": "python3"
  },
  "language_info": {
   "codemirror_mode": {
    "name": "ipython",
    "version": 3
   },
   "file_extension": ".py",
   "mimetype": "text/x-python",
   "name": "python",
   "nbconvert_exporter": "python",
   "pygments_lexer": "ipython3",
   "version": "3.8.5"
  }
 },
 "nbformat": 4,
 "nbformat_minor": 4
}
